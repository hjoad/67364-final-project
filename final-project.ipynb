{
 "cells": [
  {
   "cell_type": "markdown",
   "metadata": {},
   "source": [
    "# Understanding Your Customers: A Fresh Take on Analyzing Product Reviews\n",
    "\n",
    "Aisha Al-Khaldi & Huda Joad"
   ]
  },
  {
   "cell_type": "markdown",
   "metadata": {},
   "source": [
    "## Where are we in the data science pipeline?\n",
    "\n",
    "- **Ask an interesting question**\n",
    "- Get the data\n",
    "- Explore the data\n",
    "- Model the data\n",
    "- Communicate/visualize the results"
   ]
  },
  {
   "cell_type": "markdown",
   "metadata": {},
   "source": [
    "### Our Question\n",
    "\n",
    "When customers want to express their thoughts and sentiments about a product, they usually do it through written reviews and assign a rating for their experience (in our case, a boolean of positive/negative). We would like to delve into the discussion of **the relationship between the content of the review and its assigned rating**.\n",
    "\n",
    "We will be using Steam Web API, and try to perform a sentiment analysis on reviews to answer our question."
   ]
  },
  {
   "cell_type": "markdown",
   "metadata": {},
   "source": [
    "## Where are we in the data science pipeline?\n",
    "\n",
    "- Ask an interesting question\n",
    "- **Get the data**\n",
    "- Explore the data\n",
    "- Model the data\n",
    "- Communicate/visualize the results"
   ]
  },
  {
   "cell_type": "markdown",
   "metadata": {},
   "source": [
    "### Data Collection"
   ]
  },
  {
   "cell_type": "markdown",
   "metadata": {},
   "source": [
    "In order to complete this notebook and have a deep understanding of customer reviews, we need a lot of imports! Make sure you run this so we can start our journey! Make sure to do pip installs in case you don't have these yet ⬇️!!"
   ]
  },
  {
   "cell_type": "code",
   "execution_count": 1,
   "metadata": {},
   "outputs": [
    {
     "name": "stdout",
     "output_type": "stream",
     "text": [
      "Collecting gensim\n",
      "  Downloading gensim-4.3.2-cp38-cp38-macosx_11_0_arm64.whl.metadata (8.5 kB)\n",
      "Requirement already satisfied: numpy>=1.18.5 in /Users/awashi/miniconda3/lib/python3.8/site-packages (from gensim) (1.24.2)\n",
      "Requirement already satisfied: scipy>=1.7.0 in /Users/awashi/miniconda3/lib/python3.8/site-packages (from gensim) (1.10.1)\n",
      "Collecting smart-open>=1.8.1 (from gensim)\n",
      "  Downloading smart_open-6.4.0-py3-none-any.whl.metadata (21 kB)\n",
      "Downloading gensim-4.3.2-cp38-cp38-macosx_11_0_arm64.whl (24.0 MB)\n",
      "\u001b[2K   \u001b[90m━━━━━━━━━━━━━━━━━━━━━━━━━━━━━━━━━━━━━━━━\u001b[0m \u001b[32m24.0/24.0 MB\u001b[0m \u001b[31m5.4 MB/s\u001b[0m eta \u001b[36m0:00:00\u001b[0m00:01\u001b[0m00:01\u001b[0m\n",
      "\u001b[?25hDownloading smart_open-6.4.0-py3-none-any.whl (57 kB)\n",
      "\u001b[2K   \u001b[90m━━━━━━━━━━━━━━━━━━━━━━━━━━━━━━━━━━━━━━━━\u001b[0m \u001b[32m57.0/57.0 kB\u001b[0m \u001b[31m5.8 MB/s\u001b[0m eta \u001b[36m0:00:00\u001b[0m\n",
      "\u001b[?25hInstalling collected packages: smart-open, gensim\n",
      "Successfully installed gensim-4.3.2 smart-open-6.4.0\n",
      "Note: you may need to restart the kernel to use updated packages.\n"
     ]
    }
   ],
   "source": [
    "%pip install gensim"
   ]
  },
  {
   "cell_type": "code",
   "execution_count": 6,
   "metadata": {},
   "outputs": [
    {
     "name": "stderr",
     "output_type": "stream",
     "text": [
      "[nltk_data] Downloading package stopwords to\n",
      "[nltk_data]     /Users/awashi/nltk_data...\n",
      "[nltk_data]   Package stopwords is already up-to-date!\n",
      "[nltk_data] Downloading package wordnet to /Users/awashi/nltk_data...\n",
      "[nltk_data]   Package wordnet is already up-to-date!\n"
     ]
    },
    {
     "data": {
      "text/plain": [
       "True"
      ]
     },
     "execution_count": 6,
     "metadata": {},
     "output_type": "execute_result"
    }
   ],
   "source": [
    "# they don't bite don't worry!\n",
    "\n",
    "import requests\n",
    "import pandas as pd\n",
    "import time\n",
    "from requests.exceptions import ConnectionError\n",
    "import re\n",
    "from nltk.corpus import stopwords\n",
    "from nltk.stem import WordNetLemmatizer\n",
    "import nltk\n",
    "from sklearn.feature_extraction.text import TfidfVectorizer\n",
    "from sklearn.model_selection import train_test_split\n",
    "from sklearn.ensemble import RandomForestClassifier\n",
    "from sklearn.metrics import classification_report, accuracy_score\n",
    "import matplotlib.pyplot as plt\n",
    "import seaborn as sns\n",
    "import numpy as np\n",
    "from sklearn.metrics import confusion_matrix\n",
    "from sklearn.metrics import precision_recall_curve\n",
    "from sklearn.metrics import auc\n",
    "import gensim.downloader as api\n",
    "from sklearn.pipeline import Pipeline\n",
    "from sklearn.model_selection import GridSearchCV\n",
    "from sklearn.metrics import make_scorer\n",
    "\n",
    "# Some NLTK resources\n",
    "nltk.download('stopwords')\n",
    "nltk.download('wordnet')"
   ]
  },
  {
   "cell_type": "markdown",
   "metadata": {},
   "source": [
    "### Steam API"
   ]
  },
  {
   "cell_type": "markdown",
   "metadata": {},
   "source": [
    "Steam has a web API. This means we don't actually need an API key to extract what we need, which are the reviews for various games. Instead, we can simply use different URLs.\n",
    "\n",
    "*More about Steam's web API can be found [here](https://partner.steamgames.com/doc/store/getreviews).*\n",
    "\n",
    "The web API allows us to filter by positive and negative reviews, which means we can use this to get labeled data without having to do it ourselves. Currently, there are over 1.6 million apps, although all of them do not necessarily have reviews."
   ]
  },
  {
   "cell_type": "code",
   "execution_count": 7,
   "metadata": {},
   "outputs": [
    {
     "data": {
      "text/plain": [
       "{'success': 1,\n",
       " 'query_summary': {'num_reviews': 3},\n",
       " 'reviews': [{'recommendationid': '150673892',\n",
       "   'author': {'steamid': '76561198355093882',\n",
       "    'num_games_owned': 31,\n",
       "    'num_reviews': 16,\n",
       "    'playtime_forever': 613,\n",
       "    'playtime_last_two_weeks': 326,\n",
       "    'playtime_at_review': 541,\n",
       "    'last_played': 1700853064},\n",
       "   'language': 'english',\n",
       "   'review': 'Well and truly, this game is pretty... okay. I say that cause the first half is fun, interesting, you get to see how one of the HECU would deal with the Black Mesa Incident nothing much to complain about there (except for buggy AI, but it\\'s a half life 1 game. What else do you expect?).\\nThe second half though just feels like its trying to be a harder half life 1. Race X aliens that are just sponges, with you taking insane amounts of damage and wasting a good chunk of ammo on a singular one. They\\'re too fast, too spongy and a general nightmare to play against.\\nThen you have what can only be described as Gearbox going \"hmm what if we made an annoying bit of half life (blast pit) even worse\" and also going \"what if we made a boss but terrible\". It also feels like they were adding filler with how difficult and annoying the game gets.\\nThe entire second half of the game is just not FUN. \\n\\nIf you want more Half Life 1, get Blue Shift. It\\'s short, but so much better.',\n",
       "   'timestamp_created': 1700599776,\n",
       "   'timestamp_updated': 1700599776,\n",
       "   'voted_up': False,\n",
       "   'votes_up': 2,\n",
       "   'votes_funny': 0,\n",
       "   'weighted_vote_score': '0.545454561710357666',\n",
       "   'comment_count': 0,\n",
       "   'steam_purchase': True,\n",
       "   'received_for_free': False,\n",
       "   'written_during_early_access': False,\n",
       "   'hidden_in_steam_china': True,\n",
       "   'steam_china_location': ''},\n",
       "  {'recommendationid': '150455924',\n",
       "   'author': {'steamid': '76561198053624818',\n",
       "    'num_games_owned': 0,\n",
       "    'num_reviews': 156,\n",
       "    'playtime_forever': 357,\n",
       "    'playtime_last_two_weeks': 357,\n",
       "    'playtime_at_review': 357,\n",
       "    'last_played': 1700459686},\n",
       "   'language': 'english',\n",
       "   'review': \"The gameplay is great, but not as tight as Half Life. Considering Randy Pitchford made it, Opposing Force is surprisingly competent. Though the last few hours feel like blatant filler, and the boss fight is the biggest waste of time (easily the worst boss in all of the HL series).\\n\\nThe new weapons are welcome, but the squad concept is half-baked. Other than occasionally healing you, they are there solely to trigger scripted events. The rope physics are utterly broken, but that might just be a consequence of running this over 30 fps. The major problem is that the night-vision filter is the same color as the reticle and the weapon selection menu, so in the dark you not only can't aim, but you also can't see what weapon you are switching to, and this game has a lot of dark spaces. Gearbox didn't do basic QA testing evidently.\\n\\nUnfortunately, the updated Steam version with widescreen support is broken as of writing, so the game may freeze or crash without warning. I think my save files might be corrupted, but I have no clue since running the game in earlier versions sometimes works. Similar bugs were present in the HL 2 DLC as well. For that reason I wouldn't suggest anyone buy this, sadly. What quality gameplay there is is not worth the headache. Buy it on disc if you must, but don't get the Steam version.\",\n",
       "   'timestamp_created': 1700430077,\n",
       "   'timestamp_updated': 1700657910,\n",
       "   'voted_up': False,\n",
       "   'votes_up': 1,\n",
       "   'votes_funny': 0,\n",
       "   'weighted_vote_score': '0.523809552192687988',\n",
       "   'comment_count': 0,\n",
       "   'steam_purchase': True,\n",
       "   'received_for_free': False,\n",
       "   'written_during_early_access': False,\n",
       "   'hidden_in_steam_china': True,\n",
       "   'steam_china_location': ''},\n",
       "  {'recommendationid': '150526613',\n",
       "   'author': {'steamid': '76561199521662266',\n",
       "    'num_games_owned': 23,\n",
       "    'num_reviews': 5,\n",
       "    'playtime_forever': 9,\n",
       "    'playtime_last_two_weeks': 0,\n",
       "    'playtime_at_review': 9,\n",
       "    'last_played': 1699841563},\n",
       "   'language': 'english',\n",
       "   'review': 'Mouse rotation no work big sad',\n",
       "   'timestamp_created': 1700535491,\n",
       "   'timestamp_updated': 1700535491,\n",
       "   'voted_up': False,\n",
       "   'votes_up': 1,\n",
       "   'votes_funny': 0,\n",
       "   'weighted_vote_score': '0.519421160221099854',\n",
       "   'comment_count': 0,\n",
       "   'steam_purchase': True,\n",
       "   'received_for_free': False,\n",
       "   'written_during_early_access': False,\n",
       "   'hidden_in_steam_china': True,\n",
       "   'steam_china_location': ''}],\n",
       " 'cursor': 'AoIIPwT4xnWpm74E'}"
      ]
     },
     "execution_count": 7,
     "metadata": {},
     "output_type": "execute_result"
    }
   ],
   "source": [
    "# This is an example to showcase what scraping the Web API gives\n",
    "\n",
    "url = \"https://store.steampowered.com/appreviews/50?json=1&review_type=negative\"\n",
    "r = requests.get(url)\n",
    "data = r.json()\n",
    "data"
   ]
  },
  {
   "cell_type": "markdown",
   "metadata": {},
   "source": [
    "In this example we can see we get 2 negative reviews in JSON format. To get the reviews alone, we would use the following syntax."
   ]
  },
  {
   "cell_type": "code",
   "execution_count": 8,
   "metadata": {},
   "outputs": [
    {
     "name": "stdout",
     "output_type": "stream",
     "text": [
      "Well and truly, this game is pretty... okay. I say that cause the first half is fun, interesting, you get to see how one of the HECU would deal with the Black Mesa Incident nothing much to complain about there (except for buggy AI, but it's a half life 1 game. What else do you expect?).\n",
      "The second half though just feels like its trying to be a harder half life 1. Race X aliens that are just sponges, with you taking insane amounts of damage and wasting a good chunk of ammo on a singular one. They're too fast, too spongy and a general nightmare to play against.\n",
      "Then you have what can only be described as Gearbox going \"hmm what if we made an annoying bit of half life (blast pit) even worse\" and also going \"what if we made a boss but terrible\". It also feels like they were adding filler with how difficult and annoying the game gets.\n",
      "The entire second half of the game is just not FUN. \n",
      "\n",
      "If you want more Half Life 1, get Blue Shift. It's short, but so much better.\n",
      "The gameplay is great, but not as tight as Half Life. Considering Randy Pitchford made it, Opposing Force is surprisingly competent. Though the last few hours feel like blatant filler, and the boss fight is the biggest waste of time (easily the worst boss in all of the HL series).\n",
      "\n",
      "The new weapons are welcome, but the squad concept is half-baked. Other than occasionally healing you, they are there solely to trigger scripted events. The rope physics are utterly broken, but that might just be a consequence of running this over 30 fps. The major problem is that the night-vision filter is the same color as the reticle and the weapon selection menu, so in the dark you not only can't aim, but you also can't see what weapon you are switching to, and this game has a lot of dark spaces. Gearbox didn't do basic QA testing evidently.\n",
      "\n",
      "Unfortunately, the updated Steam version with widescreen support is broken as of writing, so the game may freeze or crash without warning. I think my save files might be corrupted, but I have no clue since running the game in earlier versions sometimes works. Similar bugs were present in the HL 2 DLC as well. For that reason I wouldn't suggest anyone buy this, sadly. What quality gameplay there is is not worth the headache. Buy it on disc if you must, but don't get the Steam version.\n",
      "Mouse rotation no work big sad\n"
     ]
    },
    {
     "data": {
      "text/plain": [
       "[None, None, None]"
      ]
     },
     "execution_count": 8,
     "metadata": {},
     "output_type": "execute_result"
    }
   ],
   "source": [
    "[print(review['review']) for review in data['reviews']]"
   ]
  },
  {
   "cell_type": "markdown",
   "metadata": {},
   "source": [
    "We would know that these are negative reviews as we filtered for negative reviews in the URL for the Steam web API. With all this information, we can now programatically get labeled reviews. For the sake of this project, **we will simply a minimum of the first 5,000 positive and negative reviews and go through the apps in order starting from app ID 1.**"
   ]
  },
  {
   "cell_type": "markdown",
   "metadata": {},
   "source": [
    "### 🚨⚠️ 𝐃𝐨 𝐧𝐨𝐭 𝐫𝐮𝐧 𝐭𝐡𝐞 𝐜𝐞𝐥𝐥 𝐛𝐞𝐥𝐨𝐰. 𝐖𝐞 𝐡𝐚𝐯𝐞 𝐭𝐡𝐢𝐬 𝐛𝐥𝐨𝐜𝐤 𝐨𝐟 𝐜𝐨𝐝𝐞 𝐭𝐨 𝐠𝐞𝐧𝐞𝐫𝐚𝐭𝐞 𝐭𝐡𝐞 𝐜𝐬𝐯 𝐟𝐢𝐥𝐞𝐬 𝐟𝐨𝐫 𝐲𝐨𝐮! 𝐔𝐧𝐥𝐞𝐬𝐬 𝐲𝐨𝐮 𝐡𝐚𝐯𝐞 𝟔+ 𝐡𝐨𝐮𝐫𝐬 𝐭𝐨 𝐬𝐩𝐚𝐫𝐞, 𝐲𝐨𝐮 𝐜𝐚𝐧 𝐬𝐤𝐢𝐩 𝐭𝐡𝐢𝐬 𝐜𝐞𝐥𝐥 𝐚𝐧𝐝 𝐟𝐨𝐥𝐥𝐨𝐰 𝐚𝐥𝐨𝐧𝐠 𝐰𝐢𝐭𝐡 𝐭𝐡𝐞 𝐜𝐬𝐯 𝐟𝐢𝐥𝐞 𝐰𝐞 𝐚𝐥𝐫𝐞𝐚𝐝𝐲 𝐩𝐫𝐨𝐯𝐢𝐝𝐞𝐝 𝐟𝐨𝐫 𝐲𝐨𝐮! ⚠️🚨"
   ]
  },
  {
   "cell_type": "code",
   "execution_count": null,
   "metadata": {},
   "outputs": [],
   "source": [
    "# Function to fetch reviews from Steam API for a given game ID and review type (positive or negative)\n",
    "def fetch_reviews(game_id, review_type):\n",
    "    url = f\"https://store.steampowered.com/appreviews/{game_id}?json=1&review_type={review_type}\"\n",
    "    try:\n",
    "        r = requests.get(url)  # Make an HTTP GET request to the API\n",
    "        if r.status_code == 200:\n",
    "            data = r.json()  # Parse the JSON response\n",
    "            return [review['review'] for review in data['reviews']]  # Return a list of reviews\n",
    "    except ConnectionError:\n",
    "        print(f\"Connection error for game ID {game_id}. Retrying...\")\n",
    "        time.sleep(5)  # Wait for 5 seconds before retrying. Without this you'll crash after running for 3+ hours...\n",
    "        return fetch_reviews(game_id, review_type)  # Recursive retry\n",
    "    return []  # Return an empty list if the request fails or an exception occurs :()\n",
    "\n",
    "# Initialize lists to store positive and negative reviews\n",
    "positive_reviews = []\n",
    "negative_reviews = []\n",
    "game_id = 1  # Start from the first game ID\n",
    "\n",
    "# Loop until you get 5000 positive and 5000 negative reviews\n",
    "while len(positive_reviews) < 5000 or len(negative_reviews) < 5000:\n",
    "    print(f\"Game ID: {game_id}\")\n",
    "    if len(positive_reviews) < 5000:\n",
    "        # Fetch and add positive reviews for the current game ID\n",
    "        positive_reviews.extend(fetch_reviews(game_id, 'positive'))\n",
    "        print(f\"    Total Positive Reviews: {len(positive_reviews)}\")\n",
    "\n",
    "    if len(negative_reviews) < 5000:\n",
    "        # Fetch and add negative reviews for the current game ID\n",
    "        negative_reviews.extend(fetch_reviews(game_id, 'negative'))\n",
    "        print(f\"    Total Negative Reviews: {len(negative_reviews)}\")\n",
    "\n",
    "    game_id += 1  # Increment the game ID for the next iteration\n",
    "    time.sleep(0.2)  # Pause for 0.5 seconds to avoid hitting the rate limit!!\n",
    "\n",
    "# Combine the positive and negative reviews into a single list with their corresponding sentiment labels\n",
    "reviews_data = [(review, 'positive') for review in positive_reviews] + \\\n",
    "               [(review, 'negative') for review in negative_reviews]\n",
    "\n",
    "# Create a DataFrame from the combined review data\n",
    "df = pd.DataFrame(reviews_data, columns=['review', 'sentiment'])\n",
    "\n",
    "# Save the DataFrame to a CSV file, without the index and using UTF-8 encoding\n",
    "# This way you don't have to run this code for 6+ hours :D\n",
    "df.to_csv('steam_reviews.csv', index=False, encoding='utf-8')"
   ]
  },
  {
   "cell_type": "markdown",
   "metadata": {},
   "source": [
    "Let's start, shall we! First we will be creating a dataframe for the reviews!"
   ]
  },
  {
   "cell_type": "code",
   "execution_count": 9,
   "metadata": {},
   "outputs": [],
   "source": [
    "reviews_df = pd.read_csv('steam_reviews.csv', encoding='utf-8') # Read the CSV we generated!"
   ]
  },
  {
   "cell_type": "code",
   "execution_count": 10,
   "metadata": {},
   "outputs": [
    {
     "data": {
      "text/html": [
       "<div>\n",
       "<style scoped>\n",
       "    .dataframe tbody tr th:only-of-type {\n",
       "        vertical-align: middle;\n",
       "    }\n",
       "\n",
       "    .dataframe tbody tr th {\n",
       "        vertical-align: top;\n",
       "    }\n",
       "\n",
       "    .dataframe thead th {\n",
       "        text-align: right;\n",
       "    }\n",
       "</style>\n",
       "<table border=\"1\" class=\"dataframe\">\n",
       "  <thead>\n",
       "    <tr style=\"text-align: right;\">\n",
       "      <th></th>\n",
       "      <th>review</th>\n",
       "      <th>sentiment</th>\n",
       "    </tr>\n",
       "  </thead>\n",
       "  <tbody>\n",
       "    <tr>\n",
       "      <th>0</th>\n",
       "      <td>if ur tired of cs2 come back to 2000 and play ...</td>\n",
       "      <td>positive</td>\n",
       "    </tr>\n",
       "    <tr>\n",
       "      <th>1</th>\n",
       "      <td>Counter-Strike 1.6 was a significant part of m...</td>\n",
       "      <td>positive</td>\n",
       "    </tr>\n",
       "    <tr>\n",
       "      <th>2</th>\n",
       "      <td>rather pay for this than winrar</td>\n",
       "      <td>positive</td>\n",
       "    </tr>\n",
       "    <tr>\n",
       "      <th>3</th>\n",
       "      <td>Better then CS2</td>\n",
       "      <td>positive</td>\n",
       "    </tr>\n",
       "    <tr>\n",
       "      <th>4</th>\n",
       "      <td>Every school that i have attended, had this in...</td>\n",
       "      <td>positive</td>\n",
       "    </tr>\n",
       "    <tr>\n",
       "      <th>...</th>\n",
       "      <td>...</td>\n",
       "      <td>...</td>\n",
       "    </tr>\n",
       "    <tr>\n",
       "      <th>9998</th>\n",
       "      <td>Its just a terrible clone of katamari. And IMO...</td>\n",
       "      <td>negative</td>\n",
       "    </tr>\n",
       "    <tr>\n",
       "      <th>9999</th>\n",
       "      <td>TL:DR this game was made 12 year old who got a...</td>\n",
       "      <td>negative</td>\n",
       "    </tr>\n",
       "    <tr>\n",
       "      <th>10000</th>\n",
       "      <td>Insultingly bad Katamari Damacy rip-off.</td>\n",
       "      <td>negative</td>\n",
       "    </tr>\n",
       "    <tr>\n",
       "      <th>10001</th>\n",
       "      <td>The poor man's Katamari Damacy.</td>\n",
       "      <td>negative</td>\n",
       "    </tr>\n",
       "    <tr>\n",
       "      <th>10002</th>\n",
       "      <td>I started out small.\\nThen I slowly grew to on...</td>\n",
       "      <td>negative</td>\n",
       "    </tr>\n",
       "  </tbody>\n",
       "</table>\n",
       "<p>10003 rows × 2 columns</p>\n",
       "</div>"
      ],
      "text/plain": [
       "                                                  review sentiment\n",
       "0      if ur tired of cs2 come back to 2000 and play ...  positive\n",
       "1      Counter-Strike 1.6 was a significant part of m...  positive\n",
       "2                        rather pay for this than winrar  positive\n",
       "3                                        Better then CS2  positive\n",
       "4      Every school that i have attended, had this in...  positive\n",
       "...                                                  ...       ...\n",
       "9998   Its just a terrible clone of katamari. And IMO...  negative\n",
       "9999   TL:DR this game was made 12 year old who got a...  negative\n",
       "10000           Insultingly bad Katamari Damacy rip-off.  negative\n",
       "10001                    The poor man's Katamari Damacy.  negative\n",
       "10002  I started out small.\\nThen I slowly grew to on...  negative\n",
       "\n",
       "[10003 rows x 2 columns]"
      ]
     },
     "execution_count": 10,
     "metadata": {},
     "output_type": "execute_result"
    }
   ],
   "source": [
    "reviews_df"
   ]
  },
  {
   "cell_type": "code",
   "execution_count": 11,
   "metadata": {},
   "outputs": [
    {
     "data": {
      "text/plain": [
       "negative    5003\n",
       "positive    5000\n",
       "Name: sentiment, dtype: int64"
      ]
     },
     "execution_count": 11,
     "metadata": {},
     "output_type": "execute_result"
    }
   ],
   "source": [
    "reviews_df.sentiment.value_counts()"
   ]
  },
  {
   "cell_type": "markdown",
   "metadata": {},
   "source": [
    "Now we have 10,003 total reviews from 15,970 apps, split almost evenly between 5,003 negative and 5,000 positive reviews. Having the same amount of data for each type of review, negative and positive, is really important because the balance means that our model won't lean more towards one sentiment over the other. Our model will learn to recognize both positive and negative comments equally, which helps it make fair and accurate predictions."
   ]
  },
  {
   "cell_type": "markdown",
   "metadata": {},
   "source": [
    "## Where are we in the data science pipeline?\n",
    "\n",
    "- Ask an interesting question\n",
    "- Get the data\n",
    "- **Explore the data**\n",
    "- Model the data\n",
    "- Communicate/visualize the results"
   ]
  },
  {
   "cell_type": "markdown",
   "metadata": {},
   "source": [
    "### Data Processing"
   ]
  },
  {
   "cell_type": "markdown",
   "metadata": {},
   "source": [
    "Before we dive into the world of sentiment analysis, we first have to process our data using our API. "
   ]
  },
  {
   "cell_type": "code",
   "execution_count": 12,
   "metadata": {},
   "outputs": [
    {
     "data": {
      "text/plain": [
       "review       5\n",
       "sentiment    0\n",
       "dtype: int64"
      ]
     },
     "execution_count": 12,
     "metadata": {},
     "output_type": "execute_result"
    }
   ],
   "source": [
    "reviews_df.isna().sum()"
   ]
  },
  {
   "cell_type": "markdown",
   "metadata": {},
   "source": [
    "Since we have enough reviews, we can simply drop the rows with null values."
   ]
  },
  {
   "cell_type": "code",
   "execution_count": 13,
   "metadata": {},
   "outputs": [
    {
     "data": {
      "text/plain": [
       "review       0\n",
       "sentiment    0\n",
       "dtype: int64"
      ]
     },
     "execution_count": 13,
     "metadata": {},
     "output_type": "execute_result"
    }
   ],
   "source": [
    "reviews_df.dropna(inplace=True)\n",
    "reviews_df.isna().sum()"
   ]
  },
  {
   "cell_type": "code",
   "execution_count": 14,
   "metadata": {},
   "outputs": [
    {
     "data": {
      "text/plain": [
       "(9998, 2)"
      ]
     },
     "execution_count": 14,
     "metadata": {},
     "output_type": "execute_result"
    }
   ],
   "source": [
    "reviews_df.shape"
   ]
  },
  {
   "cell_type": "markdown",
   "metadata": {},
   "source": [
    "### Exploration/Visualization"
   ]
  },
  {
   "cell_type": "markdown",
   "metadata": {},
   "source": [
    "The next step in our journey is to visualize what we have obtained from the dataframe, we do this by generating a bar plot using Seaborn to clearly distinguish the positive and negative reviews with different colors and extra annotations!"
   ]
  },
  {
   "cell_type": "code",
   "execution_count": 15,
   "metadata": {},
   "outputs": [
    {
     "data": {
      "image/png": "[encoded data removed]",
      "text/plain": [
       "<Figure size 432x288 with 1 Axes>"
      ]
     },
     "metadata": {
      "needs_background": "light"
     },
     "output_type": "display_data"
    }
   ],
   "source": [
    "# The distribution of sentiments in the dataset\n",
    "palette = {\"positive\": \"#9370db\", \"negative\": \"#69359c\"}\n",
    "plot = sns.countplot(data=reviews_df, x='sentiment', palette=palette)\n",
    "plt.title('Distribution of Positive and Negative Reviews')\n",
    "\n",
    "# Using annotations to showcase the exact difference between the two review features\n",
    "for bar in plot.patches:\n",
    "    plot.annotate(f'{bar.get_height()}', (bar.get_x() + bar.get_width() / 2., bar.get_height()),\n",
    "                ha='center', va='center', fontsize=11, color='black', xytext=(0, 5),\n",
    "                textcoords='offset points')\n",
    "\n",
    "plt.show()"
   ]
  },
  {
   "cell_type": "markdown",
   "metadata": {},
   "source": [
    "As you can see in the above plot, we found an almost equal number of positive and negative comments: 4,996 positive and 5,002 negative (we provided annotations on the graph for extra clarification due to the small difference between the two). We now understand that customers are just as likely to share positive comments as they are to share negative ones."
   ]
  },
  {
   "cell_type": "markdown",
   "metadata": {},
   "source": [
    "## Where are we in the data science pipeline?\n",
    "\n",
    "- Ask an interesting question\n",
    "- Get the data\n",
    "- Explore the data\n",
    "- **Model the data**\n",
    "- Communicate/visualize the results"
   ]
  },
  {
   "cell_type": "markdown",
   "metadata": {},
   "source": [
    "The model we will be using is a Random Forest Classifier. A random forest classifier can capture more complex relationships between words and sentiment. It's a good choice when you want to explore a slightly more advanced model without diving too deep into complex algorithms."
   ]
  },
  {
   "cell_type": "markdown",
   "metadata": {},
   "source": [
    "### Analysis/Machine Learning"
   ]
  },
  {
   "cell_type": "markdown",
   "metadata": {},
   "source": [
    "In order to model the data, first we want to tokenize it, similar to what we did in a previous assignment in this course. Think of a very complex Lego set you've seen, we want to dismantle this set and train our model with each individual brick – this is tokenization. By doing so, our model can create it's own Lego set!"
   ]
  },
  {
   "cell_type": "markdown",
   "metadata": {},
   "source": [
    "#### Text Preprocessing"
   ]
  },
  {
   "cell_type": "markdown",
   "metadata": {},
   "source": [
    "With text preprocessing, we are cleaning our individual bricks (data) so we can effectively train our model!"
   ]
  },
  {
   "cell_type": "code",
   "execution_count": 16,
   "metadata": {},
   "outputs": [
    {
     "data": {
      "text/html": [
       "<div>\n",
       "<style scoped>\n",
       "    .dataframe tbody tr th:only-of-type {\n",
       "        vertical-align: middle;\n",
       "    }\n",
       "\n",
       "    .dataframe tbody tr th {\n",
       "        vertical-align: top;\n",
       "    }\n",
       "\n",
       "    .dataframe thead th {\n",
       "        text-align: right;\n",
       "    }\n",
       "</style>\n",
       "<table border=\"1\" class=\"dataframe\">\n",
       "  <thead>\n",
       "    <tr style=\"text-align: right;\">\n",
       "      <th></th>\n",
       "      <th>review</th>\n",
       "      <th>sentiment</th>\n",
       "    </tr>\n",
       "  </thead>\n",
       "  <tbody>\n",
       "    <tr>\n",
       "      <th>0</th>\n",
       "      <td>if ur tired of cs2 come back to 2000 and play ...</td>\n",
       "      <td>positive</td>\n",
       "    </tr>\n",
       "    <tr>\n",
       "      <th>1</th>\n",
       "      <td>Counter-Strike 1.6 was a significant part of m...</td>\n",
       "      <td>positive</td>\n",
       "    </tr>\n",
       "    <tr>\n",
       "      <th>2</th>\n",
       "      <td>rather pay for this than winrar</td>\n",
       "      <td>positive</td>\n",
       "    </tr>\n",
       "    <tr>\n",
       "      <th>3</th>\n",
       "      <td>Better then CS2</td>\n",
       "      <td>positive</td>\n",
       "    </tr>\n",
       "    <tr>\n",
       "      <th>4</th>\n",
       "      <td>Every school that i have attended, had this in...</td>\n",
       "      <td>positive</td>\n",
       "    </tr>\n",
       "    <tr>\n",
       "      <th>...</th>\n",
       "      <td>...</td>\n",
       "      <td>...</td>\n",
       "    </tr>\n",
       "    <tr>\n",
       "      <th>9998</th>\n",
       "      <td>Its just a terrible clone of katamari. And IMO...</td>\n",
       "      <td>negative</td>\n",
       "    </tr>\n",
       "    <tr>\n",
       "      <th>9999</th>\n",
       "      <td>TL:DR this game was made 12 year old who got a...</td>\n",
       "      <td>negative</td>\n",
       "    </tr>\n",
       "    <tr>\n",
       "      <th>10000</th>\n",
       "      <td>Insultingly bad Katamari Damacy rip-off.</td>\n",
       "      <td>negative</td>\n",
       "    </tr>\n",
       "    <tr>\n",
       "      <th>10001</th>\n",
       "      <td>The poor man's Katamari Damacy.</td>\n",
       "      <td>negative</td>\n",
       "    </tr>\n",
       "    <tr>\n",
       "      <th>10002</th>\n",
       "      <td>I started out small.\\nThen I slowly grew to on...</td>\n",
       "      <td>negative</td>\n",
       "    </tr>\n",
       "  </tbody>\n",
       "</table>\n",
       "<p>9998 rows × 2 columns</p>\n",
       "</div>"
      ],
      "text/plain": [
       "                                                  review sentiment\n",
       "0      if ur tired of cs2 come back to 2000 and play ...  positive\n",
       "1      Counter-Strike 1.6 was a significant part of m...  positive\n",
       "2                        rather pay for this than winrar  positive\n",
       "3                                        Better then CS2  positive\n",
       "4      Every school that i have attended, had this in...  positive\n",
       "...                                                  ...       ...\n",
       "9998   Its just a terrible clone of katamari. And IMO...  negative\n",
       "9999   TL:DR this game was made 12 year old who got a...  negative\n",
       "10000           Insultingly bad Katamari Damacy rip-off.  negative\n",
       "10001                    The poor man's Katamari Damacy.  negative\n",
       "10002  I started out small.\\nThen I slowly grew to on...  negative\n",
       "\n",
       "[9998 rows x 2 columns]"
      ]
     },
     "execution_count": 16,
     "metadata": {},
     "output_type": "execute_result"
    }
   ],
   "source": [
    "# Creating a new dataframe\n",
    "reviews_preprocessed_df = reviews_df.copy()\n",
    "reviews_preprocessed_df"
   ]
  },
  {
   "cell_type": "code",
   "execution_count": 17,
   "metadata": {},
   "outputs": [],
   "source": [
    "def preprocess_text(text):\n",
    "    text = text.lower() # Lowercasing\n",
    "    text = re.sub('[^a-zA-Z]', ' ', text) # Remove punctuations and numbers\n",
    "    text = re.sub(r\"\\s+[a-zA-Z]\\s+\", ' ', text) # Remove single character words\n",
    "    text = re.sub(r'\\s+', ' ', text) # Remove multiple spaces\n",
    "\n",
    "    words = text.split() # Tokenization\n",
    "\n",
    "    # Remove stopwords and lemmatize\n",
    "    lemmatizer = WordNetLemmatizer()\n",
    "    words = [lemmatizer.lemmatize(word) for word in words if word not in set(stopwords.words('english'))]\n",
    "    \n",
    "    return ' '.join(words) # The reason we join here is to use TfidfVectorizer later\n",
    "\n",
    "# Apply preprocessing to each review\n",
    "reviews_preprocessed_df['review'] = reviews_df['review'].apply(preprocess_text)"
   ]
  },
  {
   "cell_type": "markdown",
   "metadata": {},
   "source": [
    "We just want to show, by running the below code, the comparison between the original and preprocessed reviews:"
   ]
  },
  {
   "cell_type": "code",
   "execution_count": 18,
   "metadata": {},
   "outputs": [
    {
     "name": "stdout",
     "output_type": "stream",
     "text": [
      "0    if ur tired of cs2 come back to 2000 and play ...\n",
      "1    Counter-Strike 1.6 was a significant part of m...\n",
      "2                      rather pay for this than winrar\n",
      "3                                      Better then CS2\n",
      "4    Every school that i have attended, had this in...\n",
      "Name: review, dtype: object\n",
      "\n",
      "0                          ur tired c come back play c\n",
      "1    counter strike significant part childhood firs...\n",
      "2                                    rather pay winrar\n",
      "3                                             better c\n",
      "4       every school attended installed every computer\n",
      "Name: review, dtype: object\n"
     ]
    }
   ],
   "source": [
    "print(reviews_df.review.head())\n",
    "print()\n",
    "print(reviews_preprocessed_df.review.head())"
   ]
  },
  {
   "cell_type": "markdown",
   "metadata": {},
   "source": [
    "As you can see from the results, the first set of reviews includes causal language, spelling and grammar. After this set of reviews pass our preprocessing function you can see that it has cleaned up the words by resorting the words to their base form. This is important to our journey as it provides our model with a clean set of reviews to train from and to aid us in figuring out the overall sentiment."
   ]
  },
  {
   "cell_type": "markdown",
   "metadata": {},
   "source": [
    "#### Feature Extraction"
   ]
  },
  {
   "cell_type": "markdown",
   "metadata": {},
   "source": [
    "In order to complete the feature extraction, we will start by creating a TF-IDF vectorizer to then split the data!"
   ]
  },
  {
   "cell_type": "code",
   "execution_count": 19,
   "metadata": {},
   "outputs": [],
   "source": [
    "# Creating a TF-IDF vectorizer\n",
    "tfidf_vectorizer = TfidfVectorizer(max_features=5000)\n",
    "X = tfidf_vectorizer.fit_transform(reviews_preprocessed_df['review']).toarray()"
   ]
  },
  {
   "cell_type": "markdown",
   "metadata": {},
   "source": [
    "#### Split the data"
   ]
  },
  {
   "cell_type": "code",
   "execution_count": 20,
   "metadata": {},
   "outputs": [],
   "source": [
    "y = reviews_preprocessed_df['sentiment'].map({'positive': 1, 'negative': 0}).values\n",
    "X_train, X_test, y_train, y_test = train_test_split(X, y, test_size=0.2, random_state=42) # train_test_split is our favorite function"
   ]
  },
  {
   "cell_type": "markdown",
   "metadata": {},
   "source": [
    "#### Train the Random Forest classifier"
   ]
  },
  {
   "cell_type": "markdown",
   "metadata": {},
   "source": [
    "We begin by initializing the Random Forest Classifier with an arbritary n_estimators, which we will get into futher down the notebook! Then, we start training the model!"
   ]
  },
  {
   "cell_type": "code",
   "execution_count": 21,
   "metadata": {},
   "outputs": [
    {
     "data": {
      "text/html": [
       "<style>#sk-container-id-1 {color: black;background-color: white;}#sk-container-id-1 pre{padding: 0;}#sk-container-id-1 div.sk-toggleable {background-color: white;}#sk-container-id-1 label.sk-toggleable__label {cursor: pointer;display: block;width: 100%;margin-bottom: 0;padding: 0.3em;box-sizing: border-box;text-align: center;}#sk-container-id-1 label.sk-toggleable__label-arrow:before {content: \"▸\";float: left;margin-right: 0.25em;color: #696969;}#sk-container-id-1 label.sk-toggleable__label-arrow:hover:before {color: black;}#sk-container-id-1 div.sk-estimator:hover label.sk-toggleable__label-arrow:before {color: black;}#sk-container-id-1 div.sk-toggleable__content {max-height: 0;max-width: 0;overflow: hidden;text-align: left;background-color: #f0f8ff;}#sk-container-id-1 div.sk-toggleable__content pre {margin: 0.2em;color: black;border-radius: 0.25em;background-color: #f0f8ff;}#sk-container-id-1 input.sk-toggleable__control:checked~div.sk-toggleable__content {max-height: 200px;max-width: 100%;overflow: auto;}#sk-container-id-1 input.sk-toggleable__control:checked~label.sk-toggleable__label-arrow:before {content: \"▾\";}#sk-container-id-1 div.sk-estimator input.sk-toggleable__control:checked~label.sk-toggleable__label {background-color: #d4ebff;}#sk-container-id-1 div.sk-label input.sk-toggleable__control:checked~label.sk-toggleable__label {background-color: #d4ebff;}#sk-container-id-1 input.sk-hidden--visually {border: 0;clip: rect(1px 1px 1px 1px);clip: rect(1px, 1px, 1px, 1px);height: 1px;margin: -1px;overflow: hidden;padding: 0;position: absolute;width: 1px;}#sk-container-id-1 div.sk-estimator {font-family: monospace;background-color: #f0f8ff;border: 1px dotted black;border-radius: 0.25em;box-sizing: border-box;margin-bottom: 0.5em;}#sk-container-id-1 div.sk-estimator:hover {background-color: #d4ebff;}#sk-container-id-1 div.sk-parallel-item::after {content: \"\";width: 100%;border-bottom: 1px solid gray;flex-grow: 1;}#sk-container-id-1 div.sk-label:hover label.sk-toggleable__label {background-color: #d4ebff;}#sk-container-id-1 div.sk-serial::before {content: \"\";position: absolute;border-left: 1px solid gray;box-sizing: border-box;top: 0;bottom: 0;left: 50%;z-index: 0;}#sk-container-id-1 div.sk-serial {display: flex;flex-direction: column;align-items: center;background-color: white;padding-right: 0.2em;padding-left: 0.2em;position: relative;}#sk-container-id-1 div.sk-item {position: relative;z-index: 1;}#sk-container-id-1 div.sk-parallel {display: flex;align-items: stretch;justify-content: center;background-color: white;position: relative;}#sk-container-id-1 div.sk-item::before, #sk-container-id-1 div.sk-parallel-item::before {content: \"\";position: absolute;border-left: 1px solid gray;box-sizing: border-box;top: 0;bottom: 0;left: 50%;z-index: -1;}#sk-container-id-1 div.sk-parallel-item {display: flex;flex-direction: column;z-index: 1;position: relative;background-color: white;}#sk-container-id-1 div.sk-parallel-item:first-child::after {align-self: flex-end;width: 50%;}#sk-container-id-1 div.sk-parallel-item:last-child::after {align-self: flex-start;width: 50%;}#sk-container-id-1 div.sk-parallel-item:only-child::after {width: 0;}#sk-container-id-1 div.sk-dashed-wrapped {border: 1px dashed gray;margin: 0 0.4em 0.5em 0.4em;box-sizing: border-box;padding-bottom: 0.4em;background-color: white;}#sk-container-id-1 div.sk-label label {font-family: monospace;font-weight: bold;display: inline-block;line-height: 1.2em;}#sk-container-id-1 div.sk-label-container {text-align: center;}#sk-container-id-1 div.sk-container {/* jupyter's `normalize.less` sets `[hidden] { display: none; }` but bootstrap.min.css set `[hidden] { display: none !important; }` so we also need the `!important` here to be able to override the default hidden behavior on the sphinx rendered scikit-learn.org. See: https://github.com/scikit-learn/scikit-learn/issues/21755 */display: inline-block !important;position: relative;}#sk-container-id-1 div.sk-text-repr-fallback {display: none;}</style><div id=\"sk-container-id-1\" class=\"sk-top-container\"><div class=\"sk-text-repr-fallback\"><pre>RandomForestClassifier(random_state=42)</pre><b>In a Jupyter environment, please rerun this cell to show the HTML representation or trust the notebook. <br />On GitHub, the HTML representation is unable to render, please try loading this page with nbviewer.org.</b></div><div class=\"sk-container\" hidden><div class=\"sk-item\"><div class=\"sk-estimator sk-toggleable\"><input class=\"sk-toggleable__control sk-hidden--visually\" id=\"sk-estimator-id-1\" type=\"checkbox\" checked><label for=\"sk-estimator-id-1\" class=\"sk-toggleable__label sk-toggleable__label-arrow\">RandomForestClassifier</label><div class=\"sk-toggleable__content\"><pre>RandomForestClassifier(random_state=42)</pre></div></div></div></div></div>"
      ],
      "text/plain": [
       "RandomForestClassifier(random_state=42)"
      ]
     },
     "execution_count": 21,
     "metadata": {},
     "output_type": "execute_result"
    }
   ],
   "source": [
    "# Initializing the Random Forest Classifier with an arbritary n_estimators (we'll get into that later...)\n",
    "rf_classifier = RandomForestClassifier(n_estimators=100, random_state=42)\n",
    "\n",
    "# Training the model\n",
    "rf_classifier.fit(X_train, y_train)"
   ]
  },
  {
   "cell_type": "markdown",
   "metadata": {},
   "source": [
    "## Where are we in the data science pipeline?\n",
    "\n",
    "- Ask an interesting question\n",
    "- Get the data\n",
    "- Explore the data\n",
    "- Model the data\n",
    "- **Communicate/visualize the results**"
   ]
  },
  {
   "cell_type": "markdown",
   "metadata": {},
   "source": [
    "#### Evaluate the model"
   ]
  },
  {
   "cell_type": "markdown",
   "metadata": {},
   "source": [
    "Great job, we have reached the end of the rainbow! It's time to evaluate the model! We begin with this step by initializing the y_pred, which predicts the test set results, et voilá! Time to evaluate!"
   ]
  },
  {
   "cell_type": "code",
   "execution_count": 22,
   "metadata": {},
   "outputs": [
    {
     "name": "stdout",
     "output_type": "stream",
     "text": [
      "Accuracy: 0.7765\n",
      "              precision    recall  f1-score   support\n",
      "\n",
      "           0       0.76      0.80      0.78       968\n",
      "           1       0.80      0.76      0.78      1032\n",
      "\n",
      "    accuracy                           0.78      2000\n",
      "   macro avg       0.78      0.78      0.78      2000\n",
      "weighted avg       0.78      0.78      0.78      2000\n",
      "\n"
     ]
    }
   ],
   "source": [
    "# Predicting the test set results\n",
    "y_pred = rf_classifier.predict(X_test)\n",
    "\n",
    "# Evaluating the results\n",
    "print(f\"Accuracy: {accuracy_score(y_test, y_pred)}\")\n",
    "print(classification_report(y_test, y_pred))"
   ]
  },
  {
   "cell_type": "markdown",
   "metadata": {},
   "source": [
    "#### Try using the model to predict the sentiment of new reviews"
   ]
  },
  {
   "cell_type": "code",
   "execution_count": 23,
   "metadata": {},
   "outputs": [
    {
     "name": "stdout",
     "output_type": "stream",
     "text": [
      "positive\n"
     ]
    }
   ],
   "source": [
    "def predict_sentiment(review):\n",
    "    review = preprocess_text(review)\n",
    "    review_vector = tfidf_vectorizer.transform([review]).toarray()\n",
    "    prediction = rf_classifier.predict(review_vector)\n",
    "    return 'positive' if prediction[0] == 1 else 'negative'\n",
    "\n",
    "# Providing an example\n",
    "print(predict_sentiment(\"This is a great product!\"))"
   ]
  },
  {
   "cell_type": "markdown",
   "metadata": {},
   "source": [
    "As you can see with the predict_sentiment function, our model has predicted correctly with the test review!"
   ]
  },
  {
   "cell_type": "markdown",
   "metadata": {},
   "source": [
    "### Insights"
   ]
  },
  {
   "cell_type": "markdown",
   "metadata": {},
   "source": [
    "Confusion Matrix:"
   ]
  },
  {
   "cell_type": "code",
   "execution_count": 19,
   "metadata": {},
   "outputs": [
    {
     "data": {
      "image/png": "[encoded data removed]",
      "text/plain": [
       "<Figure size 432x288 with 2 Axes>"
      ]
     },
     "metadata": {
      "needs_background": "light"
     },
     "output_type": "display_data"
    }
   ],
   "source": [
    "conf_mat = confusion_matrix(y_test, y_pred)\n",
    "sns.heatmap(conf_mat, annot=True, fmt='d', cmap='rocket')\n",
    "plt.xlabel('Predicted')\n",
    "plt.ylabel('True')\n",
    "plt.title('Confusion Matrix')\n",
    "plt.show()"
   ]
  },
  {
   "cell_type": "markdown",
   "metadata": {},
   "source": [
    "As you can see from the above matrix, we can determine the true positives, true negatives, false positives and false negatives of our model compared to the actual classifications. The model predicted 783 positive instances (true positives [1,1]). The model predicted 770 negative instances (true negatives [0,0]), 198 incorrect predictions at the top right (false positives [0,1]) and 249 incorrect predictions of positive instances (false negatives [1,0]). From these observations, we can see that the model has a balanced prediction ability."
   ]
  },
  {
   "cell_type": "markdown",
   "metadata": {},
   "source": [
    "Feature Importances"
   ]
  },
  {
   "cell_type": "code",
   "execution_count": 20,
   "metadata": {},
   "outputs": [
    {
     "data": {
      "image/png": "[encoded data removed]",
      "text/plain": [
       "<Figure size 720x432 with 1 Axes>"
      ]
     },
     "metadata": {
      "needs_background": "light"
     },
     "output_type": "display_data"
    }
   ],
   "source": [
    "importances = rf_classifier.feature_importances_\n",
    "indices = np.argsort(importances)[-20:]  # Top 20 features\n",
    "\n",
    "plt.figure(figsize=(10, 6))\n",
    "plt.title('Feature Importances')\n",
    "plt.barh(range(len(indices)), importances[indices], color='#6a5acd', align='center')\n",
    "plt.yticks(range(len(indices)), [tfidf_vectorizer.get_feature_names()[i] for i in indices])\n",
    "plt.xlabel('Relative Importance')\n",
    "plt.show()"
   ]
  },
  {
   "cell_type": "markdown",
   "metadata": {},
   "source": [
    "The above chart showcases the feature importance and how our model identifies certain words as hints for whether the review is positive or negative. You can see words like \"work,\" \"good\" and \"best\" are highly influential to the model's consideration process. Positive sentiments include \"good,\" \"best\" and \"fun\". Negative sentiments include \"worst\", \"broken\", \"unplayable\", and \"terrible\"."
   ]
  },
  {
   "cell_type": "markdown",
   "metadata": {},
   "source": [
    "Precision Recall Curve"
   ]
  },
  {
   "cell_type": "code",
   "execution_count": 21,
   "metadata": {},
   "outputs": [],
   "source": [
    "y_scores = rf_classifier.predict_proba(X_test)[:, 1]"
   ]
  },
  {
   "cell_type": "code",
   "execution_count": 22,
   "metadata": {},
   "outputs": [
    {
     "data": {
      "image/png": "[encoded data removed]",
      "text/plain": [
       "<Figure size 576x432 with 1 Axes>"
      ]
     },
     "metadata": {
      "needs_background": "light"
     },
     "output_type": "display_data"
    }
   ],
   "source": [
    "precision, recall, thresholds = precision_recall_curve(y_test, y_scores)\n",
    "\n",
    "plt.figure(figsize=(8, 6))\n",
    "plt.plot(recall, precision, marker='.', color='#663399')\n",
    "plt.title('Precision-Recall Curve')\n",
    "plt.xlabel('Recall')\n",
    "plt.ylabel('Precision')\n",
    "plt.grid(True)\n",
    "plt.show()"
   ]
  },
  {
   "cell_type": "markdown",
   "metadata": {},
   "source": [
    "=> small explaination here"
   ]
  },
  {
   "cell_type": "code",
   "execution_count": 23,
   "metadata": {},
   "outputs": [
    {
     "name": "stdout",
     "output_type": "stream",
     "text": [
      "Precision-Recall AUC: 0.8611403552026986\n"
     ]
    }
   ],
   "source": [
    "auc_score = auc(recall, precision)\n",
    "print(f'Precision-Recall AUC: {auc_score}')"
   ]
  },
  {
   "cell_type": "markdown",
   "metadata": {},
   "source": [
    "=> small explaination here"
   ]
  },
  {
   "cell_type": "markdown",
   "metadata": {},
   "source": [
    "TF-IDF Analysis"
   ]
  },
  {
   "cell_type": "markdown",
   "metadata": {},
   "source": [
    "=> explaination here "
   ]
  },
  {
   "cell_type": "code",
   "execution_count": 24,
   "metadata": {},
   "outputs": [],
   "source": [
    "# Creating different dataframes for the respective reviews\n",
    "positive_reviews_df = reviews_df[reviews_df['sentiment'] == 'positive']\n",
    "negative_reviews_df = reviews_df[reviews_df['sentiment'] == 'negative']\n",
    "\n",
    "# Transforming the reviews into TF-IDF features\n",
    "positive_tfidf_matrix = tfidf_vectorizer.transform(positive_reviews_df['review']).toarray()\n",
    "negative_tfidf_matrix = tfidf_vectorizer.transform(negative_reviews_df['review']).toarray()"
   ]
  },
  {
   "cell_type": "code",
   "execution_count": 25,
   "metadata": {},
   "outputs": [],
   "source": [
    "# Calculating the average TF-IDF scores\n",
    "avg_tfidf_positive = np.mean(positive_tfidf_matrix, axis=0)\n",
    "avg_tfidf_negative = np.mean(negative_tfidf_matrix, axis=0)"
   ]
  },
  {
   "cell_type": "code",
   "execution_count": 26,
   "metadata": {},
   "outputs": [
    {
     "name": "stdout",
     "output_type": "stream",
     "text": [
      "Top terms in positive reviews:\n",
      "game: 0.07436885852133364\n",
      "as: 0.05927224214685998\n",
      "good: 0.039489995925651444\n",
      "there: 0.03447157572271128\n",
      "fun: 0.028644328905778123\n",
      "great: 0.02632767278246613\n",
      "like: 0.025639696303926724\n",
      "best: 0.021592084487601228\n",
      "play: 0.021199692048634936\n",
      "do: 0.021073910594984188\n",
      "\n",
      "Top terms in negative reviews:\n",
      "game: 0.0791084135956513\n",
      "as: 0.06106434822907185\n",
      "there: 0.0522452436401279\n",
      "do: 0.04397467186592111\n",
      "play: 0.02714395597435466\n",
      "work: 0.02550148633835049\n",
      "like: 0.024885166575956033\n",
      "even: 0.023014570326775115\n",
      "get: 0.02263206268260621\n",
      "over: 0.019992288415743555\n"
     ]
    }
   ],
   "source": [
    "# Getting the feature names\n",
    "feature_names = tfidf_vectorizer.get_feature_names()\n",
    "\n",
    "# Sorting the indices of the TF-IDF scores\n",
    "sorted_positive_indices = np.argsort(avg_tfidf_positive)[::-1]\n",
    "sorted_negative_indices = np.argsort(avg_tfidf_negative)[::-1]\n",
    "\n",
    "# Finding the top terms in both the positive and negative reviews\n",
    "print(\"Top terms in positive reviews:\")\n",
    "for i in sorted_positive_indices[:10]:\n",
    "    print(f\"{feature_names[i]}: {avg_tfidf_positive[i]}\")\n",
    "\n",
    "print(\"\\nTop terms in negative reviews:\")\n",
    "for i in sorted_negative_indices[:10]:\n",
    "    print(f\"{feature_names[i]}: {avg_tfidf_negative[i]}\")\n"
   ]
  },
  {
   "cell_type": "code",
   "execution_count": 27,
   "metadata": {},
   "outputs": [
    {
     "data": {
      "image/png": "[encoded data removed]",
      "text/plain": [
       "<Figure size 432x288 with 1 Axes>"
      ]
     },
     "metadata": {
      "needs_background": "light"
     },
     "output_type": "display_data"
    },
    {
     "data": {
      "image/png": "[encoded data removed]",
      "text/plain": [
       "<Figure size 432x288 with 1 Axes>"
      ]
     },
     "metadata": {
      "needs_background": "light"
     },
     "output_type": "display_data"
    }
   ],
   "source": [
    "def top_terms(indices, scores, title, num_terms=10, color='#483d8b'):\n",
    "    terms = [feature_names[i] for i in indices[:num_terms]]\n",
    "    scores = [scores[i] for i in indices[:num_terms]]\n",
    "    plt.barh(terms, scores, color=color)\n",
    "    plt.xlabel('Average TF-IDF Score')\n",
    "    plt.title(title)\n",
    "    plt.gca().invert_yaxis()\n",
    "    plt.show()\n",
    "\n",
    "# Plotting the top terms in both positive and negative reviews\n",
    "top_terms(sorted_positive_indices, avg_tfidf_positive, 'Top Terms in Positive Reviews')\n",
    "top_terms(sorted_negative_indices, avg_tfidf_negative, 'Top Terms in Negative Reviews')\n"
   ]
  },
  {
   "cell_type": "markdown",
   "metadata": {},
   "source": [
    "## Improving the model"
   ]
  },
  {
   "cell_type": "code",
   "execution_count": null,
   "metadata": {},
   "outputs": [],
   "source": [
    "# Define the pipeline\n",
    "pipeline = Pipeline([\n",
    "    ('tfidf', TfidfVectorizer()),\n",
    "    ('rf', RandomForestClassifier(random_state=42))\n",
    "])\n",
    "\n",
    "# Define the parameter grid\n",
    "param_grid = {\n",
    "    'tfidf__max_features': [2000, 3000, 4000, 5000, 6000],  # Different max_features for TfidfVectorizer\n",
    "    'rf__n_estimators': [100, 200, 300, 400, 500]     # Different n_estimators for RandomForestClassifier\n",
    "}\n",
    "\n",
    "# Define the grid search with cross-validation\n",
    "grid_search = GridSearchCV(pipeline, param_grid, scoring=make_scorer(accuracy_score), cv=3, verbose=2)\n",
    "\n",
    "# Apply the same preprocessing to 'review' and map 'sentiment' as before\n",
    "# X is just the raw text data (list of reviews) and y is the mapped sentiment\n",
    "X = reviews_preprocessed_df['review']\n",
    "y = reviews_preprocessed_df['sentiment'].map({'positive': 1, 'negative': 0}).values\n",
    "\n",
    "# Split the data into training and testing sets\n",
    "X_train, X_test, y_train, y_test = train_test_split(X, y, test_size=0.2, random_state=42)\n",
    "\n",
    "# Fit the grid search to the data\n",
    "grid_search.fit(X_train, y_train)\n",
    "\n",
    "# Get the best estimator\n",
    "best_pipeline = grid_search.best_estimator_\n",
    "\n",
    "# Predict using the best model\n",
    "y_pred_best = best_pipeline.predict(X_test)\n",
    "\n",
    "# Evaluate the model\n",
    "accuracy_best = accuracy_score(y_test, y_pred_best)\n",
    "report_best = classification_report(y_test, y_pred_best)\n",
    "\n",
    "print(f\"Best Model Accuracy: {accuracy_best}\")\n",
    "print(f\"Classification report of the best model:\\n{report_best}\")\n",
    "print(f\"Best Model Parameters: {grid_search.best_params_}\")"
   ]
  },
  {
   "cell_type": "markdown",
   "metadata": {},
   "source": [
    "The best model accuracy we got is using 'max_features': 6000, and 'n_estimators': 400. Now we can build a model and test it using these features to compare to our last model."
   ]
  },
  {
   "cell_type": "code",
   "execution_count": 28,
   "metadata": {},
   "outputs": [
    {
     "name": "stdout",
     "output_type": "stream",
     "text": [
      "Accuracy of the best model: 0.785\n",
      "Classification report of the best model:\n",
      "              precision    recall  f1-score   support\n",
      "\n",
      "           0       0.76      0.81      0.78       968\n",
      "           1       0.81      0.76      0.79      1032\n",
      "\n",
      "    accuracy                           0.79      2000\n",
      "   macro avg       0.79      0.79      0.78      2000\n",
      "weighted avg       0.79      0.79      0.79      2000\n",
      "\n"
     ]
    }
   ],
   "source": [
    "# Assuming reviews_preprocessed_df is your preprocessed DataFrame with 'review' and 'sentiment' columns\n",
    "# 'review' contains the preprocessed text, and 'sentiment' is the target variable\n",
    "\n",
    "# Creating a TF-IDF vectorizer\n",
    "tfidf_vectorizer = TfidfVectorizer(max_features=6000)\n",
    "X = tfidf_vectorizer.fit_transform(reviews_preprocessed_df['review']).toarray()\n",
    "\n",
    "# Map 'positive' and 'negative' to 1 and 0\n",
    "y = reviews_preprocessed_df['sentiment'].map({'positive': 1, 'negative': 0}).values\n",
    "\n",
    "# Split the data into training and testing sets\n",
    "X_train, X_test, y_train, y_test = train_test_split(X, y, test_size=0.2, random_state=42)\n",
    "\n",
    "# Initialize the Random Forest Classifier with the best parameters\n",
    "rf_best = RandomForestClassifier(n_estimators=400, random_state=42)\n",
    "\n",
    "# Fit the model to the training data\n",
    "rf_best.fit(X_train, y_train)\n",
    "\n",
    "# Predict using the model\n",
    "y_pred_best = rf_best.predict(X_test)\n",
    "\n",
    "# Evaluate the model\n",
    "accuracy_best = accuracy_score(y_test, y_pred_best)\n",
    "report_best = classification_report(y_test, y_pred_best)\n",
    "\n",
    "print(f\"Accuracy of the best model: {accuracy_best}\")\n",
    "print(f\"Classification report of the best model:\\n{report_best}\")"
   ]
  },
  {
   "cell_type": "code",
   "execution_count": 29,
   "metadata": {},
   "outputs": [
    {
     "name": "stdout",
     "output_type": "stream",
     "text": [
      "Precision-Recall AUC: 0.8657842151563564\n"
     ]
    }
   ],
   "source": [
    "y_scores = rf_best.predict_proba(X_test)[:, 1]\n",
    "precision, recall, thresholds = precision_recall_curve(y_test, y_scores)\n",
    "auc_score = auc(recall, precision)\n",
    "print(f'Precision-Recall AUC: {auc_score}')"
   ]
  },
  {
   "cell_type": "markdown",
   "metadata": {},
   "source": [
    "[[This is our best model, we can do some nice fun predictions here or something]]"
   ]
  },
  {
   "cell_type": "markdown",
   "metadata": {},
   "source": [
    "### Using word embeddings"
   ]
  },
  {
   "cell_type": "markdown",
   "metadata": {},
   "source": [
    "#### Load Pre-trained Word Embeddings:"
   ]
  },
  {
   "cell_type": "code",
   "execution_count": 30,
   "metadata": {},
   "outputs": [],
   "source": [
    "# Load the pre-trained Word2Vec model (this takes some time)\n",
    "word2vec_model = api.load('word2vec-google-news-300')  # This is a large model!"
   ]
  },
  {
   "cell_type": "markdown",
   "metadata": {},
   "source": [
    "#### Convert reviews to vectors"
   ]
  },
  {
   "cell_type": "code",
   "execution_count": 37,
   "metadata": {},
   "outputs": [],
   "source": [
    "def review_to_vector(review, model):\n",
    "    # Tokenize the review and filter out words not in the Word2Vec vocabulary\n",
    "    words = [word for word in review.split() if word in model.key_to_index]\n",
    "\n",
    "    # If the review contains no words in the Word2Vec vocabulary, return a zero vector\n",
    "    if len(words) == 0:\n",
    "        return np.zeros(model.vector_size)\n",
    "\n",
    "    # Compute the average Word2Vec for the words in the review\n",
    "    review_vector = np.mean([model[word] for word in words], axis=0)\n",
    "    return review_vector\n",
    "\n",
    "# Load the pre-trained Word2Vec model\n",
    "word2vec_model = api.load('word2vec-google-news-300')\n",
    "\n",
    "# Apply the function to each review in the DataFrame\n",
    "X = np.array([review_to_vector(review, word2vec_model) for review in reviews_preprocessed_df['review']])"
   ]
  },
  {
   "cell_type": "markdown",
   "metadata": {},
   "source": [
    "#### Train the classifier with the vectors"
   ]
  },
  {
   "cell_type": "code",
   "execution_count": 38,
   "metadata": {},
   "outputs": [
    {
     "name": "stdout",
     "output_type": "stream",
     "text": [
      "Accuracy: 0.7685\n",
      "              precision    recall  f1-score   support\n",
      "\n",
      "           0       0.75      0.79      0.77       968\n",
      "           1       0.79      0.75      0.77      1032\n",
      "\n",
      "    accuracy                           0.77      2000\n",
      "   macro avg       0.77      0.77      0.77      2000\n",
      "weighted avg       0.77      0.77      0.77      2000\n",
      "\n"
     ]
    }
   ],
   "source": [
    "# Map 'positive' and 'negative' to 1 and 0\n",
    "y = reviews_preprocessed_df['sentiment'].map({'positive': 1, 'negative': 0}).values\n",
    "\n",
    "# Split the data into training and testing sets\n",
    "X_train, X_test, y_train, y_test = train_test_split(X, y, test_size=0.2, random_state=42)\n",
    "\n",
    "# Initialize and train the Random Forest Classifier\n",
    "rf_classifier = RandomForestClassifier(n_estimators=100, random_state=42)\n",
    "rf_classifier.fit(X_train, y_train)\n",
    "\n",
    "# Predict and evaluate the model\n",
    "y_pred = rf_classifier.predict(X_test)\n",
    "print(f\"Accuracy: {accuracy_score(y_test, y_pred)}\")\n",
    "print(classification_report(y_test, y_pred))"
   ]
  },
  {
   "cell_type": "code",
   "execution_count": 39,
   "metadata": {},
   "outputs": [
    {
     "name": "stdout",
     "output_type": "stream",
     "text": [
      "Precision-Recall AUC: 0.8484725503747153\n"
     ]
    }
   ],
   "source": [
    "y_scores = rf_classifier.predict_proba(X_test)[:, 1]\n",
    "precision, recall, thresholds = precision_recall_curve(y_test, y_scores)\n",
    "auc_score = auc(recall, precision)\n",
    "print(f'Precision-Recall AUC: {auc_score}')"
   ]
  },
  {
   "cell_type": "markdown",
   "metadata": {},
   "source": [
    "#### If we do it on regular reviews_df"
   ]
  },
  {
   "cell_type": "code",
   "execution_count": 34,
   "metadata": {},
   "outputs": [
    {
     "name": "stdout",
     "output_type": "stream",
     "text": [
      "Accuracy: 0.7455\n",
      "              precision    recall  f1-score   support\n",
      "\n",
      "           0       0.73      0.75      0.74       968\n",
      "           1       0.76      0.74      0.75      1032\n",
      "\n",
      "    accuracy                           0.75      2000\n",
      "   macro avg       0.75      0.75      0.75      2000\n",
      "weighted avg       0.75      0.75      0.75      2000\n",
      "\n"
     ]
    }
   ],
   "source": [
    "# Apply the function to each review in the DataFrame\n",
    "X = np.array([review_to_vector(review, word2vec_model) for review in reviews_df['review']])\n",
    "\n",
    "# Map 'positive' and 'negative' to 1 and 0\n",
    "y = reviews_df['sentiment'].map({'positive': 1, 'negative': 0}).values\n",
    "\n",
    "# Split the data into training and testing sets\n",
    "X_train, X_test, y_train, y_test = train_test_split(X, y, test_size=0.2, random_state=42)\n",
    "\n",
    "# Initialize and train the Random Forest Classifier\n",
    "rf_classifier = RandomForestClassifier(n_estimators=100, random_state=42)\n",
    "rf_classifier.fit(X_train, y_train)\n",
    "\n",
    "# Predict and evaluate the model\n",
    "y_pred = rf_classifier.predict(X_test)\n",
    "print(f\"Accuracy: {accuracy_score(y_test, y_pred)}\")\n",
    "print(classification_report(y_test, y_pred))"
   ]
  },
  {
   "cell_type": "code",
   "execution_count": 35,
   "metadata": {},
   "outputs": [
    {
     "name": "stdout",
     "output_type": "stream",
     "text": [
      "Precision-Recall AUC: 0.8409910031026868\n"
     ]
    }
   ],
   "source": [
    "y_scores = rf_classifier.predict_proba(X_test)[:, 1]\n",
    "precision, recall, thresholds = precision_recall_curve(y_test, y_scores)\n",
    "auc_score = auc(recall, precision)\n",
    "print(f'Precision-Recall AUC: {auc_score}')"
   ]
  },
  {
   "cell_type": "markdown",
   "metadata": {},
   "source": [
    "[[we can see this is worse]]"
   ]
  },
  {
   "cell_type": "markdown",
   "metadata": {},
   "source": [
    "# Delete Later\n",
    "\n",
    "Questions to answer\n",
    "- Does the project clearly identify the problem? \n",
    "- Does the project clearly describe the relevant data or/and its collection? \n",
    "- Does the project clearly explain how the data can be used to draw conclusions about the \n",
    "- underlying system? \n",
    "- Does the report clearly explain the work that was done? \n",
    "- Is the project innovative or novel? \n",
    "- Is the model built accurate enough? \n",
    "- Does the project use techniques presented in the course (or clearly related to topics covered in the course) to understand and analyze the data for this problem? \n",
    "- Does the report explain how this work fits around related work in this subject area? \n",
    "- Does the report provide directions for further investigation?"
   ]
  }
 ],
 "metadata": {
  "kernelspec": {
   "display_name": "Python 3",
   "language": "python",
   "name": "python3"
  },
  "language_info": {
   "codemirror_mode": {
    "name": "ipython",
    "version": 3
   },
   "file_extension": ".py",
   "mimetype": "text/x-python",
   "name": "python",
   "nbconvert_exporter": "python",
   "pygments_lexer": "ipython3",
   "version": "3.8.13"
  }
 },
 "nbformat": 4,
 "nbformat_minor": 2
}
