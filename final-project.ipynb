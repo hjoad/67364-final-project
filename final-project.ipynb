{
 "cells": [
  {
   "cell_type": "markdown",
   "metadata": {},
   "source": [
    "# Understanding Your Customers: A Fresh Take on Analyzing Product Reviews\n",
    "\n",
    "Aisha Al-Khaldi & Huda Joad"
   ]
  },
  {
   "cell_type": "markdown",
   "metadata": {},
   "source": [
    "## Where are we in the data science pipeline?\n",
    "\n",
    "- **Ask an interesting question**\n",
    "- Get the data\n",
    "- Explore the data\n",
    "- Model the data\n",
    "- Communicate/visualize the results"
   ]
  },
  {
   "cell_type": "markdown",
   "metadata": {},
   "source": [
    "## Our Question\n",
    "\n",
    "When customers want to express their thoughts and sentiments about a product, they usually do it through written reviews and assign a rating for their experience (typically a numerical rating from 1-5). We would like to delve into the discussion of **the relationship between the content of the review, whether it's positive, negative or neutral and their assigned ratings**.\n",
    "\n",
    "We will be using xxx API, and try to perform a sentiment analysis on reviews to answer our question."
   ]
  },
  {
   "cell_type": "markdown",
   "metadata": {},
   "source": [
    "## Where are we in the data science pipeline?\n",
    "\n",
    "- Ask an interesting question\n",
    "- **Get the data**\n",
    "- Explore the data\n",
    "- Model the data\n",
    "- Communicate/visualize the results"
   ]
  },
  {
   "cell_type": "code",
   "execution_count": 13,
   "metadata": {},
   "outputs": [],
   "source": [
    "# data collection"
   ]
  },
  {
   "cell_type": "code",
   "execution_count": 14,
   "metadata": {},
   "outputs": [],
   "source": [
    "# !pip install -e git+https://github.com/gauravmm/jupyter-testing.git#egg=jupyter-testing\n",
    "\n",
    "from testing.testing import test\n",
    "import requests"
   ]
  },
  {
   "cell_type": "code",
   "execution_count": 15,
   "metadata": {},
   "outputs": [
    {
     "name": "stdout",
     "output_type": "stream",
     "text": [
      "### TESTING retrieve_html: PASSED 2/2\n",
      "###\n",
      "\n"
     ]
    }
   ],
   "source": [
    "def retrieve_html_test(retrieve_html):\n",
    "    status_code, text = retrieve_html(\"http://www.example.com\")\n",
    "    test.equal(status_code, 200)\n",
    "    test.true(\"http://censor.qa/?accessurl=d3d3LmV4YW1wbGUuY29t&urlclassname=&ipaddr=78.100.166.255\" in text)\n",
    "\n",
    "@test\n",
    "def retrieve_html(url):\n",
    "    \"\"\"\n",
    "    Return the raw HTML at the specified URL.\n",
    "\n",
    "    Args:\n",
    "        url (string): \n",
    "\n",
    "    Returns:\n",
    "        status_code (integer):\n",
    "        raw_html (string): the raw HTML content of the response, properly encoded according to the HTTP headers.\n",
    "    \"\"\"\n",
    "\n",
    "    r = requests.get(url)\n",
    "    return r.status_code, r.text"
   ]
  },
  {
   "cell_type": "markdown",
   "metadata": {},
   "source": [
    "Steam has a web API. This means we don't actually need an API key to extract what we need, which are the reviews for various games. Instead, we can simply use different URLs.\n",
    "\n",
    "More about Steam's web API can be found [here](https://partner.steamgames.com/doc/store/getreviews).\n",
    "\n",
    "The web API allows us to filter by positive and negative reviews, which means we can use this to get labeled data without having to do it ourselves. Currently, there are over 1.6 million apps, although all of them do not necessarily have reviews."
   ]
  },
  {
   "cell_type": "code",
   "execution_count": 16,
   "metadata": {},
   "outputs": [],
   "source": [
    "# https://store.steampowered.com/appreviews/50?json=1&review_type=negative"
   ]
  },
  {
   "cell_type": "markdown",
   "metadata": {},
   "source": [
    "## Where are we in the data science pipeline?\n",
    "\n",
    "- Ask an interesting question\n",
    "- Get the data\n",
    "- **Explore the data**\n",
    "- Model the data\n",
    "- Communicate/visualize the results"
   ]
  },
  {
   "cell_type": "code",
   "execution_count": 17,
   "metadata": {},
   "outputs": [],
   "source": [
    "# data processing"
   ]
  },
  {
   "cell_type": "code",
   "execution_count": 18,
   "metadata": {},
   "outputs": [],
   "source": [
    "# exploration/visualization"
   ]
  },
  {
   "cell_type": "markdown",
   "metadata": {},
   "source": [
    "## Where are we in the data science pipeline?\n",
    "\n",
    "- Ask an interesting question\n",
    "- Get the data\n",
    "- Explore the data\n",
    "- **Model the data**\n",
    "- Communicate/visualize the results"
   ]
  },
  {
   "cell_type": "markdown",
   "metadata": {},
   "source": [
    "The model we will be using is a Random Forest Classifier. A random forest classifier can capture more complex relationships between words and sentiment. It's a good choice when you want to explore a slightly more advanced model without diving too deep into complex algorithms."
   ]
  },
  {
   "cell_type": "code",
   "execution_count": 19,
   "metadata": {},
   "outputs": [],
   "source": [
    "# analysis/machine learning"
   ]
  },
  {
   "cell_type": "markdown",
   "metadata": {},
   "source": [
    "## Where are we in the data science pipeline?\n",
    "\n",
    "- Ask an interesting question\n",
    "- Get the data\n",
    "- Explore the data\n",
    "- Model the data\n",
    "- **Communicate/visualize the results**"
   ]
  },
  {
   "cell_type": "code",
   "execution_count": 20,
   "metadata": {},
   "outputs": [],
   "source": [
    "# insights"
   ]
  },
  {
   "cell_type": "markdown",
   "metadata": {},
   "source": [
    "# Delete Later\n",
    "\n",
    "Questions to answer\n",
    "- Does the project clearly identify the problem? \n",
    "- Does the project clearly describe the relevant data or/and its collection? \n",
    "- Does the project clearly explain how the data can be used to draw conclusions about the \n",
    "- underlying system? \n",
    "- Does the report clearly explain the work that was done? \n",
    "- Is the project innovative or novel? \n",
    "- Is the model built accurate enough? \n",
    "- Does the project use techniques presented in the course (or clearly related to topics \n",
    "covered? \n",
    "- in the course) to understand and analyze the data for this problem? \n",
    "- Does the report explain how this work fits around related work in this subject area? \n",
    "- Does the report provide directions for further investigation?"
   ]
  }
 ],
 "metadata": {
  "kernelspec": {
   "display_name": "Python 3",
   "language": "python",
   "name": "python3"
  },
  "language_info": {
   "codemirror_mode": {
    "name": "ipython",
    "version": 3
   },
   "file_extension": ".py",
   "mimetype": "text/x-python",
   "name": "python",
   "nbconvert_exporter": "python",
   "pygments_lexer": "ipython3",
   "version": "3.9.7"
  }
 },
 "nbformat": 4,
 "nbformat_minor": 2
}
