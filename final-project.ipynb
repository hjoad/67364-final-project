{
 "cells": [
  {
   "cell_type": "markdown",
   "metadata": {},
   "source": [
    "# Understanding Your Customers: A Fresh Take on Analyzing Product Reviews\n",
    "\n",
    "Aisha Al-Khaldi & Huda Joad"
   ]
  },
  {
   "cell_type": "markdown",
   "metadata": {},
   "source": [
    "## Where are we in the data science pipeline?\n",
    "\n",
    "- **Ask an interesting question**\n",
    "- Get the data\n",
    "- Explore the data\n",
    "- Model the data\n",
    "- Communicate/visualize the results"
   ]
  },
  {
   "cell_type": "markdown",
   "metadata": {},
   "source": [
    "## Our Question\n",
    "\n",
    "When customers want to express their thoughts and sentiments about a product, they usually do it through written reviews and assign a rating for their experience (typically a numerical rating from 1-5). We would like to delve into the discussion of **the relationship between the content of the review, whether it's positive, negative or neutral and their assigned ratings**.\n",
    "\n",
    "We will be using xxx API, and try to perform a sentiment analysis on reviews to answer our question."
   ]
  },
  {
   "cell_type": "markdown",
   "metadata": {},
   "source": [
    "## Where are we in the data science pipeline?\n",
    "\n",
    "- Ask an interesting question\n",
    "- **Get the data**\n",
    "- Explore the data\n",
    "- Model the data\n",
    "- Communicate/visualize the results"
   ]
  },
  {
   "cell_type": "code",
   "execution_count": 45,
   "metadata": {},
   "outputs": [],
   "source": [
    "# data collection"
   ]
  },
  {
   "cell_type": "code",
   "execution_count": 46,
   "metadata": {},
   "outputs": [],
   "source": [
    "# !pip install -e git+https://github.com/gauravmm/jupyter-testing.git#egg=jupyter-testing\n",
    "\n",
    "from testing.testing import test\n",
    "import requests"
   ]
  },
  {
   "cell_type": "code",
   "execution_count": 47,
   "metadata": {},
   "outputs": [
    {
     "name": "stdout",
     "output_type": "stream",
     "text": [
      "### TESTING retrieve_html: PASSED 2/2\n",
      "###\n",
      "\n"
     ]
    }
   ],
   "source": [
    "def retrieve_html_test(retrieve_html):\n",
    "    status_code, text = retrieve_html(\"http://www.example.com\")\n",
    "    test.equal(status_code, 200)\n",
    "    test.true(\"http://censor.qa/?accessurl=d3d3LmV4YW1wbGUuY29t&urlclassname=&ipaddr=78.100.166.255\" in text)\n",
    "\n",
    "@test\n",
    "def retrieve_html(url):\n",
    "    \"\"\"\n",
    "    Return the raw HTML at the specified URL.\n",
    "\n",
    "    Args:\n",
    "        url (string): \n",
    "\n",
    "    Returns:\n",
    "        status_code (integer):\n",
    "        raw_html (string): the raw HTML content of the response, properly encoded according to the HTTP headers.\n",
    "    \"\"\"\n",
    "\n",
    "    r = requests.get(url)\n",
    "    return r.status_code, r.text"
   ]
  },
  {
   "cell_type": "markdown",
   "metadata": {},
   "source": [
    "Steam has a web API. This means we don't actually need an API key to extract what we need, which are the reviews for various games. Instead, we can simply use different URLs.\n",
    "\n",
    "More about Steam's web API can be found [here](https://partner.steamgames.com/doc/store/getreviews).\n",
    "\n",
    "The web API allows us to filter by positive and negative reviews, which means we can use this to get labeled data without having to do it ourselves. Currently, there are over 1.6 million apps, although all of them do not necessarily have reviews."
   ]
  },
  {
   "cell_type": "code",
   "execution_count": 48,
   "metadata": {},
   "outputs": [],
   "source": [
    "# https://store.steampowered.com/appreviews/50?json=1&review_type=negative"
   ]
  },
  {
   "cell_type": "code",
   "execution_count": 49,
   "metadata": {},
   "outputs": [
    {
     "data": {
      "text/plain": [
       "{'success': 1,\n",
       " 'query_summary': {'num_reviews': 2},\n",
       " 'reviews': [{'recommendationid': '148298468',\n",
       "   'author': {'steamid': '76561199532044655',\n",
       "    'num_games_owned': 0,\n",
       "    'num_reviews': 3,\n",
       "    'playtime_forever': 41,\n",
       "    'playtime_last_two_weeks': 0,\n",
       "    'playtime_at_review': 40,\n",
       "    'last_played': 1697669378},\n",
       "   'language': 'english',\n",
       "   'review': 'YABBADA MY HALF LUNCHER IS NOT WORKING WHEN I PUT THE CODE IN YABABDA',\n",
       "   'timestamp_created': 1697397516,\n",
       "   'timestamp_updated': 1697397516,\n",
       "   'voted_up': False,\n",
       "   'votes_up': 2,\n",
       "   'votes_funny': 0,\n",
       "   'weighted_vote_score': '0.523809552192687988',\n",
       "   'comment_count': 0,\n",
       "   'steam_purchase': True,\n",
       "   'received_for_free': False,\n",
       "   'written_during_early_access': False,\n",
       "   'hidden_in_steam_china': True,\n",
       "   'steam_china_location': ''},\n",
       "  {'recommendationid': '147535618',\n",
       "   'author': {'steamid': '76561198079977656',\n",
       "    'num_games_owned': 1149,\n",
       "    'num_reviews': 98,\n",
       "    'playtime_forever': 275,\n",
       "    'playtime_last_two_weeks': 0,\n",
       "    'playtime_at_review': 275,\n",
       "    'last_played': 1696221270},\n",
       "   'language': 'english',\n",
       "   'review': \"the game is fun, but there's one enemy that just made me upset and i never had enough ammo to deal with them. They were just really annoying and they were the only thing i regretted after beating this game.\",\n",
       "   'timestamp_created': 1696294162,\n",
       "   'timestamp_updated': 1696294162,\n",
       "   'voted_up': False,\n",
       "   'votes_up': 2,\n",
       "   'votes_funny': 0,\n",
       "   'weighted_vote_score': '0.5',\n",
       "   'comment_count': 0,\n",
       "   'steam_purchase': True,\n",
       "   'received_for_free': False,\n",
       "   'written_during_early_access': False,\n",
       "   'hidden_in_steam_china': True,\n",
       "   'steam_china_location': ''}],\n",
       " 'cursor': 'AoIIPwAAAHLw5rIE'}"
      ]
     },
     "execution_count": 49,
     "metadata": {},
     "output_type": "execute_result"
    }
   ],
   "source": [
    "url = \"https://store.steampowered.com/appreviews/50?json=1&review_type=negative\"\n",
    "r = requests.get(url)\n",
    "data = r.json()\n",
    "\n",
    "data"
   ]
  },
  {
   "cell_type": "markdown",
   "metadata": {},
   "source": [
    "In this example we can see we get 2 negative reviews in JSON format. To get the reviews alone, let's try this."
   ]
  },
  {
   "cell_type": "code",
   "execution_count": 55,
   "metadata": {},
   "outputs": [
    {
     "name": "stdout",
     "output_type": "stream",
     "text": [
      "YABBADA MY HALF LUNCHER IS NOT WORKING WHEN I PUT THE CODE IN YABABDA\n",
      "the game is fun, but there's one enemy that just made me upset and i never had enough ammo to deal with them. They were just really annoying and they were the only thing i regretted after beating this game.\n"
     ]
    },
    {
     "data": {
      "text/plain": [
       "[None, None]"
      ]
     },
     "execution_count": 55,
     "metadata": {},
     "output_type": "execute_result"
    }
   ],
   "source": [
    "[print(review['review']) for review in data['reviews']]"
   ]
  },
  {
   "cell_type": "markdown",
   "metadata": {},
   "source": [
    "We would know that these are negative reviews as we filtered for negative reviews in the URL for the Steam web API. With all this information, we can now programatically get labeled reviews. For the sake of this project, we will simply get the first 5,000 positive and negative reviews and go through the apps in order starting from app ID 1."
   ]
  },
  {
   "cell_type": "markdown",
   "metadata": {},
   "source": [
    "## Where are we in the data science pipeline?\n",
    "\n",
    "- Ask an interesting question\n",
    "- Get the data\n",
    "- **Explore the data**\n",
    "- Model the data\n",
    "- Communicate/visualize the results"
   ]
  },
  {
   "cell_type": "code",
   "execution_count": 51,
   "metadata": {},
   "outputs": [],
   "source": [
    "# data processing"
   ]
  },
  {
   "cell_type": "code",
   "execution_count": 52,
   "metadata": {},
   "outputs": [],
   "source": [
    "# exploration/visualization"
   ]
  },
  {
   "cell_type": "markdown",
   "metadata": {},
   "source": [
    "## Where are we in the data science pipeline?\n",
    "\n",
    "- Ask an interesting question\n",
    "- Get the data\n",
    "- Explore the data\n",
    "- **Model the data**\n",
    "- Communicate/visualize the results"
   ]
  },
  {
   "cell_type": "markdown",
   "metadata": {},
   "source": [
    "The model we will be using is a Random Forest Classifier. A random forest classifier can capture more complex relationships between words and sentiment. It's a good choice when you want to explore a slightly more advanced model without diving too deep into complex algorithms."
   ]
  },
  {
   "cell_type": "code",
   "execution_count": 53,
   "metadata": {},
   "outputs": [],
   "source": [
    "# analysis/machine learning"
   ]
  },
  {
   "cell_type": "markdown",
   "metadata": {},
   "source": [
    "## Where are we in the data science pipeline?\n",
    "\n",
    "- Ask an interesting question\n",
    "- Get the data\n",
    "- Explore the data\n",
    "- Model the data\n",
    "- **Communicate/visualize the results**"
   ]
  },
  {
   "cell_type": "code",
   "execution_count": 54,
   "metadata": {},
   "outputs": [],
   "source": [
    "# insights"
   ]
  },
  {
   "cell_type": "markdown",
   "metadata": {},
   "source": [
    "# Delete Later\n",
    "\n",
    "Questions to answer\n",
    "- Does the project clearly identify the problem? \n",
    "- Does the project clearly describe the relevant data or/and its collection? \n",
    "- Does the project clearly explain how the data can be used to draw conclusions about the \n",
    "- underlying system? \n",
    "- Does the report clearly explain the work that was done? \n",
    "- Is the project innovative or novel? \n",
    "- Is the model built accurate enough? \n",
    "- Does the project use techniques presented in the course (or clearly related to topics \n",
    "covered? \n",
    "- in the course) to understand and analyze the data for this problem? \n",
    "- Does the report explain how this work fits around related work in this subject area? \n",
    "- Does the report provide directions for further investigation?"
   ]
  }
 ],
 "metadata": {
  "kernelspec": {
   "display_name": "Python 3",
   "language": "python",
   "name": "python3"
  },
  "language_info": {
   "codemirror_mode": {
    "name": "ipython",
    "version": 3
   },
   "file_extension": ".py",
   "mimetype": "text/x-python",
   "name": "python",
   "nbconvert_exporter": "python",
   "pygments_lexer": "ipython3",
   "version": "3.9.7"
  }
 },
 "nbformat": 4,
 "nbformat_minor": 2
}
