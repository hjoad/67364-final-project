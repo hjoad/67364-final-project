{
 "cells": [
  {
   "cell_type": "markdown",
   "metadata": {},
   "source": [
    "# Understanding Your Customers: A Fresh Take on Analyzing Product Reviews\n",
    "\n",
    "Aisha Al-Khaldi & Huda Joad"
   ]
  },
  {
   "cell_type": "markdown",
   "metadata": {},
   "source": [
    "## Where are we in the data science pipeline?\n",
    "\n",
    "- **Ask an interesting question**\n",
    "- Get the data\n",
    "- Explore the data\n",
    "- Model the data\n",
    "- Communicate/visualize the results"
   ]
  },
  {
   "cell_type": "markdown",
   "metadata": {},
   "source": [
    "## Our Question\n",
    "\n",
    "When customers want to express their thoughts and sentiments about a product, they usually do it through written reviews and assign a rating for their experience (in our case, a boolean of positive/negative). We would like to delve into the discussion of **the relationship between the content of the review and its assigned rating**.\n",
    "\n",
    "We will be using Steam Web API, and try to perform a sentiment analysis on reviews to answer our question."
   ]
  },
  {
   "cell_type": "markdown",
   "metadata": {},
   "source": [
    "## Where are we in the data science pipeline?\n",
    "\n",
    "- Ask an interesting question\n",
    "- **Get the data**\n",
    "- Explore the data\n",
    "- Model the data\n",
    "- Communicate/visualize the results"
   ]
  },
  {
   "cell_type": "markdown",
   "metadata": {},
   "source": [
    "### Data Collection"
   ]
  },
  {
   "cell_type": "code",
   "execution_count": 1,
   "metadata": {},
   "outputs": [
    {
     "name": "stderr",
     "output_type": "stream",
     "text": [
      "[nltk_data] Downloading package stopwords to\n",
      "[nltk_data]     C:\\Users\\hudaj\\AppData\\Roaming\\nltk_data...\n",
      "[nltk_data]   Package stopwords is already up-to-date!\n",
      "[nltk_data] Downloading package wordnet to\n",
      "[nltk_data]     C:\\Users\\hudaj\\AppData\\Roaming\\nltk_data...\n",
      "[nltk_data]   Package wordnet is already up-to-date!\n"
     ]
    },
    {
     "data": {
      "text/plain": [
       "True"
      ]
     },
     "execution_count": 1,
     "metadata": {},
     "output_type": "execute_result"
    }
   ],
   "source": [
    "import requests\n",
    "import pandas as pd\n",
    "import time\n",
    "from requests.exceptions import ConnectionError\n",
    "import re\n",
    "from nltk.corpus import stopwords\n",
    "from nltk.stem import WordNetLemmatizer\n",
    "import nltk\n",
    "from sklearn.feature_extraction.text import TfidfVectorizer\n",
    "from sklearn.model_selection import train_test_split\n",
    "from sklearn.ensemble import RandomForestClassifier\n",
    "from sklearn.metrics import classification_report, accuracy_score\n",
    "\n",
    "# Download necessary NLTK resources\n",
    "nltk.download('stopwords')\n",
    "nltk.download('wordnet')"
   ]
  },
  {
   "cell_type": "markdown",
   "metadata": {},
   "source": [
    "Steam has a web API. This means we don't actually need an API key to extract what we need, which are the reviews for various games. Instead, we can simply use different URLs.\n",
    "\n",
    "More about Steam's web API can be found [here](https://partner.steamgames.com/doc/store/getreviews).\n",
    "\n",
    "The web API allows us to filter by positive and negative reviews, which means we can use this to get labeled data without having to do it ourselves. Currently, there are over 1.6 million apps, although all of them do not necessarily have reviews."
   ]
  },
  {
   "cell_type": "code",
   "execution_count": 2,
   "metadata": {},
   "outputs": [
    {
     "data": {
      "text/plain": [
       "{'success': 1,\n",
       " 'query_summary': {'num_reviews': 2},\n",
       " 'reviews': [{'recommendationid': '150673892',\n",
       "   'author': {'steamid': '76561198355093882',\n",
       "    'num_games_owned': 31,\n",
       "    'num_reviews': 16,\n",
       "    'playtime_forever': 541,\n",
       "    'playtime_last_two_weeks': 254,\n",
       "    'playtime_at_review': 541,\n",
       "    'last_played': 1700597634},\n",
       "   'language': 'english',\n",
       "   'review': 'Well and truly, this game is pretty... okay. I say that cause the first half is fun, interesting, you get to see how one of the HECU would deal with the Black Mesa Incident nothing much to complain about there (except for buggy AI, but it\\'s a half life 1 game. What else do you expect?).\\nThe second half though just feels like its trying to be a harder half life 1. Race X aliens that are just sponges, with you taking insane amounts of damage and wasting a good chunk of ammo on a singular one. They\\'re too fast, too spongy and a general nightmare to play against.\\nThen you have what can only be described as Gearbox going \"hmm what if we made an annoying bit of half life (blast pit) even worse\" and also going \"what if we made a boss but terrible\". It also feels like they were adding filler with how difficult and annoying the game gets.\\nThe entire second half of the game is just not FUN. \\n\\nIf you want more Half Life 1, get Blue Shift. It\\'s short, but so much better.',\n",
       "   'timestamp_created': 1700599776,\n",
       "   'timestamp_updated': 1700599776,\n",
       "   'voted_up': False,\n",
       "   'votes_up': 1,\n",
       "   'votes_funny': 0,\n",
       "   'weighted_vote_score': '0.523809552192687988',\n",
       "   'comment_count': 0,\n",
       "   'steam_purchase': True,\n",
       "   'received_for_free': False,\n",
       "   'written_during_early_access': False,\n",
       "   'hidden_in_steam_china': True,\n",
       "   'steam_china_location': ''},\n",
       "  {'recommendationid': '150455924',\n",
       "   'author': {'steamid': '76561198053624818',\n",
       "    'num_games_owned': 0,\n",
       "    'num_reviews': 156,\n",
       "    'playtime_forever': 357,\n",
       "    'playtime_last_two_weeks': 357,\n",
       "    'playtime_at_review': 357,\n",
       "    'last_played': 1700459686},\n",
       "   'language': 'english',\n",
       "   'review': \"The gameplay is great, but not as tight as Half Life. Considering Randy Pitchford made it, Opposing Force is surprising competent. Though the last few hours feel like blatant filler, the boss fight is the biggest waste of time.\\n\\nThe new weapons are welcome, but the squad concept is half-baked. Other than occasionally healing you, they are there solely to trigger scripted events. The rope physics are utterly broken, but that might just be a consequence of running this over 30 fps. The major problem is that the night-vision filter is the same color as the reticle and the weapon selection menu, so in the dark you not only can't aim, but you also can't see what weapon you are switching to, and this game has a lot of dark spaces. Gearbox didn't do basic QA testing evidently.\\n\\nUnfortunately, the updated Steam version with widescreen support is broken as of writing, so the game may freeze or crash without warning. I think my save files might be corrupted, but I have no clue since running the game in earlier versions sometimes works. Similar bugs were present in the HL 2 DLC as well. For that reason I wouldn't suggest anyone buy this, sadly. What quality gameplay there is is not worth the headache. Buy it on disc if you must, but don't get the Steam version.\",\n",
       "   'timestamp_created': 1700430077,\n",
       "   'timestamp_updated': 1700460073,\n",
       "   'voted_up': False,\n",
       "   'votes_up': 1,\n",
       "   'votes_funny': 0,\n",
       "   'weighted_vote_score': '0.523809552192687988',\n",
       "   'comment_count': 0,\n",
       "   'steam_purchase': True,\n",
       "   'received_for_free': False,\n",
       "   'written_during_early_access': False,\n",
       "   'hidden_in_steam_china': True,\n",
       "   'steam_china_location': ''}],\n",
       " 'cursor': 'AoIIPwYYanTn+L0E'}"
      ]
     },
     "execution_count": 2,
     "metadata": {},
     "output_type": "execute_result"
    }
   ],
   "source": [
    "url = \"https://store.steampowered.com/appreviews/50?json=1&review_type=negative\"\n",
    "r = requests.get(url)\n",
    "data = r.json()\n",
    "\n",
    "data"
   ]
  },
  {
   "cell_type": "markdown",
   "metadata": {},
   "source": [
    "In this example we can see we get 2 negative reviews in JSON format. To get the reviews alone, let's try this."
   ]
  },
  {
   "cell_type": "code",
   "execution_count": 3,
   "metadata": {},
   "outputs": [
    {
     "name": "stdout",
     "output_type": "stream",
     "text": [
      "Well and truly, this game is pretty... okay. I say that cause the first half is fun, interesting, you get to see how one of the HECU would deal with the Black Mesa Incident nothing much to complain about there (except for buggy AI, but it's a half life 1 game. What else do you expect?).\n",
      "The second half though just feels like its trying to be a harder half life 1. Race X aliens that are just sponges, with you taking insane amounts of damage and wasting a good chunk of ammo on a singular one. They're too fast, too spongy and a general nightmare to play against.\n",
      "Then you have what can only be described as Gearbox going \"hmm what if we made an annoying bit of half life (blast pit) even worse\" and also going \"what if we made a boss but terrible\". It also feels like they were adding filler with how difficult and annoying the game gets.\n",
      "The entire second half of the game is just not FUN. \n",
      "\n",
      "If you want more Half Life 1, get Blue Shift. It's short, but so much better.\n",
      "The gameplay is great, but not as tight as Half Life. Considering Randy Pitchford made it, Opposing Force is surprising competent. Though the last few hours feel like blatant filler, the boss fight is the biggest waste of time.\n",
      "\n",
      "The new weapons are welcome, but the squad concept is half-baked. Other than occasionally healing you, they are there solely to trigger scripted events. The rope physics are utterly broken, but that might just be a consequence of running this over 30 fps. The major problem is that the night-vision filter is the same color as the reticle and the weapon selection menu, so in the dark you not only can't aim, but you also can't see what weapon you are switching to, and this game has a lot of dark spaces. Gearbox didn't do basic QA testing evidently.\n",
      "\n",
      "Unfortunately, the updated Steam version with widescreen support is broken as of writing, so the game may freeze or crash without warning. I think my save files might be corrupted, but I have no clue since running the game in earlier versions sometimes works. Similar bugs were present in the HL 2 DLC as well. For that reason I wouldn't suggest anyone buy this, sadly. What quality gameplay there is is not worth the headache. Buy it on disc if you must, but don't get the Steam version.\n"
     ]
    },
    {
     "data": {
      "text/plain": [
       "[None, None]"
      ]
     },
     "execution_count": 3,
     "metadata": {},
     "output_type": "execute_result"
    }
   ],
   "source": [
    "[print(review['review']) for review in data['reviews']]"
   ]
  },
  {
   "cell_type": "markdown",
   "metadata": {},
   "source": [
    "We would know that these are negative reviews as we filtered for negative reviews in the URL for the Steam web API. With all this information, we can now programatically get labeled reviews. For the sake of this project, we will simply a minimum of the first 5,000 positive and negative reviews and go through the apps in order starting from app ID 1.\n",
    "\n",
    "!!! Do not run the cell below. It was for generating the csv file, and will run for 6+ hours. You can skip this cell as we have already provided the csv for you."
   ]
  },
  {
   "cell_type": "code",
   "execution_count": 4,
   "metadata": {},
   "outputs": [],
   "source": [
    "# Function to fetch reviews from Steam API for a given game ID and review type (positive or negative)\n",
    "def fetch_reviews(game_id, review_type):\n",
    "    url = f\"https://store.steampowered.com/appreviews/{game_id}?json=1&review_type={review_type}\"\n",
    "    try:\n",
    "        r = requests.get(url)  # Make an HTTP GET request to the API\n",
    "        if r.status_code == 200:\n",
    "            data = r.json()  # Parse the JSON response\n",
    "            return [review['review'] for review in data['reviews']]  # Return a list of reviews\n",
    "    except ConnectionError:\n",
    "        print(f\"Connection error for game ID {game_id}. Retrying...\")\n",
    "        time.sleep(5)  # Wait for 5 seconds before retrying\n",
    "        return fetch_reviews(game_id, review_type)  # Recursive retry\n",
    "    return []  # Return an empty list if the request fails or an exception occurs\n",
    "\n",
    "# Initialize lists to store positive and negative reviews\n",
    "positive_reviews = []\n",
    "negative_reviews = []\n",
    "game_id = 1  # Start from the first game ID\n",
    "\n",
    "# Loop until 5000 positive and 5000 negative reviews are collected\n",
    "while len(positive_reviews) < 5000 or len(negative_reviews) < 5000:\n",
    "    print(f\"Game ID: {game_id}\")\n",
    "    if len(positive_reviews) < 5000:\n",
    "        # Fetch and add positive reviews for the current game ID\n",
    "        positive_reviews.extend(fetch_reviews(game_id, 'positive'))\n",
    "        print(f\"    Total Positive Reviews: {len(positive_reviews)}\")\n",
    "\n",
    "    if len(negative_reviews) < 5000:\n",
    "        # Fetch and add negative reviews for the current game ID\n",
    "        negative_reviews.extend(fetch_reviews(game_id, 'negative'))\n",
    "        print(f\"    Total Negative Reviews: {len(negative_reviews)}\")\n",
    "\n",
    "    game_id += 1  # Increment the game ID for the next iteration\n",
    "    time.sleep(0.2)  # Pause for 0.5 seconds to avoid hitting the rate limit\n",
    "\n",
    "# Combine the positive and negative reviews into a single list with their corresponding sentiment labels\n",
    "reviews_data = [(review, 'positive') for review in positive_reviews] + \\\n",
    "               [(review, 'negative') for review in negative_reviews]\n",
    "\n",
    "# Create a DataFrame from the combined review data\n",
    "df = pd.DataFrame(reviews_data, columns=['review', 'sentiment'])\n",
    "\n",
    "# Save the DataFrame to a CSV file, without the index and using UTF-8 encoding\n",
    "df.to_csv('steam_reviews.csv', index=False, encoding='utf-8')"
   ]
  },
  {
   "cell_type": "code",
   "execution_count": 5,
   "metadata": {},
   "outputs": [],
   "source": [
    "reviews_df = pd.read_csv('steam_reviews.csv', encoding='utf-8')"
   ]
  },
  {
   "cell_type": "code",
   "execution_count": 6,
   "metadata": {},
   "outputs": [
    {
     "data": {
      "text/html": [
       "<div>\n",
       "<style scoped>\n",
       "    .dataframe tbody tr th:only-of-type {\n",
       "        vertical-align: middle;\n",
       "    }\n",
       "\n",
       "    .dataframe tbody tr th {\n",
       "        vertical-align: top;\n",
       "    }\n",
       "\n",
       "    .dataframe thead th {\n",
       "        text-align: right;\n",
       "    }\n",
       "</style>\n",
       "<table border=\"1\" class=\"dataframe\">\n",
       "  <thead>\n",
       "    <tr style=\"text-align: right;\">\n",
       "      <th></th>\n",
       "      <th>review</th>\n",
       "      <th>sentiment</th>\n",
       "    </tr>\n",
       "  </thead>\n",
       "  <tbody>\n",
       "    <tr>\n",
       "      <th>0</th>\n",
       "      <td>if ur tired of cs2 come back to 2000 and play ...</td>\n",
       "      <td>positive</td>\n",
       "    </tr>\n",
       "    <tr>\n",
       "      <th>1</th>\n",
       "      <td>Counter-Strike 1.6 was a significant part of m...</td>\n",
       "      <td>positive</td>\n",
       "    </tr>\n",
       "    <tr>\n",
       "      <th>2</th>\n",
       "      <td>rather pay for this than winrar</td>\n",
       "      <td>positive</td>\n",
       "    </tr>\n",
       "    <tr>\n",
       "      <th>3</th>\n",
       "      <td>Better then CS2</td>\n",
       "      <td>positive</td>\n",
       "    </tr>\n",
       "    <tr>\n",
       "      <th>4</th>\n",
       "      <td>Every school that i have attended, had this in...</td>\n",
       "      <td>positive</td>\n",
       "    </tr>\n",
       "    <tr>\n",
       "      <th>...</th>\n",
       "      <td>...</td>\n",
       "      <td>...</td>\n",
       "    </tr>\n",
       "    <tr>\n",
       "      <th>9998</th>\n",
       "      <td>Its just a terrible clone of katamari. And IMO...</td>\n",
       "      <td>negative</td>\n",
       "    </tr>\n",
       "    <tr>\n",
       "      <th>9999</th>\n",
       "      <td>TL:DR this game was made 12 year old who got a...</td>\n",
       "      <td>negative</td>\n",
       "    </tr>\n",
       "    <tr>\n",
       "      <th>10000</th>\n",
       "      <td>Insultingly bad Katamari Damacy rip-off.</td>\n",
       "      <td>negative</td>\n",
       "    </tr>\n",
       "    <tr>\n",
       "      <th>10001</th>\n",
       "      <td>The poor man's Katamari Damacy.</td>\n",
       "      <td>negative</td>\n",
       "    </tr>\n",
       "    <tr>\n",
       "      <th>10002</th>\n",
       "      <td>I started out small.\\nThen I slowly grew to on...</td>\n",
       "      <td>negative</td>\n",
       "    </tr>\n",
       "  </tbody>\n",
       "</table>\n",
       "<p>10003 rows × 2 columns</p>\n",
       "</div>"
      ],
      "text/plain": [
       "                                                  review sentiment\n",
       "0      if ur tired of cs2 come back to 2000 and play ...  positive\n",
       "1      Counter-Strike 1.6 was a significant part of m...  positive\n",
       "2                        rather pay for this than winrar  positive\n",
       "3                                        Better then CS2  positive\n",
       "4      Every school that i have attended, had this in...  positive\n",
       "...                                                  ...       ...\n",
       "9998   Its just a terrible clone of katamari. And IMO...  negative\n",
       "9999   TL:DR this game was made 12 year old who got a...  negative\n",
       "10000           Insultingly bad Katamari Damacy rip-off.  negative\n",
       "10001                    The poor man's Katamari Damacy.  negative\n",
       "10002  I started out small.\\nThen I slowly grew to on...  negative\n",
       "\n",
       "[10003 rows x 2 columns]"
      ]
     },
     "execution_count": 6,
     "metadata": {},
     "output_type": "execute_result"
    }
   ],
   "source": [
    "reviews_df"
   ]
  },
  {
   "cell_type": "code",
   "execution_count": 7,
   "metadata": {},
   "outputs": [
    {
     "data": {
      "text/plain": [
       "negative    5003\n",
       "positive    5000\n",
       "Name: sentiment, dtype: int64"
      ]
     },
     "execution_count": 7,
     "metadata": {},
     "output_type": "execute_result"
    }
   ],
   "source": [
    "reviews_df.sentiment.value_counts()"
   ]
  },
  {
   "cell_type": "markdown",
   "metadata": {},
   "source": [
    "Now we have 10,003 total reviews from 15,970 apps. Providing an equal number of data for each label is important because ???."
   ]
  },
  {
   "cell_type": "markdown",
   "metadata": {},
   "source": [
    "## Where are we in the data science pipeline?\n",
    "\n",
    "- Ask an interesting question\n",
    "- Get the data\n",
    "- **Explore the data**\n",
    "- Model the data\n",
    "- Communicate/visualize the results"
   ]
  },
  {
   "cell_type": "markdown",
   "metadata": {},
   "source": [
    "### Data Processing"
   ]
  },
  {
   "cell_type": "code",
   "execution_count": 8,
   "metadata": {},
   "outputs": [
    {
     "data": {
      "text/plain": [
       "review       5\n",
       "sentiment    0\n",
       "dtype: int64"
      ]
     },
     "execution_count": 8,
     "metadata": {},
     "output_type": "execute_result"
    }
   ],
   "source": [
    "reviews_df.isna().sum()"
   ]
  },
  {
   "cell_type": "markdown",
   "metadata": {},
   "source": [
    "Since we have enough reviews, we can simply drop the rows with null values."
   ]
  },
  {
   "cell_type": "code",
   "execution_count": 9,
   "metadata": {},
   "outputs": [
    {
     "data": {
      "text/plain": [
       "review       0\n",
       "sentiment    0\n",
       "dtype: int64"
      ]
     },
     "execution_count": 9,
     "metadata": {},
     "output_type": "execute_result"
    }
   ],
   "source": [
    "reviews_df.dropna(inplace=True)\n",
    "reviews_df.isna().sum()"
   ]
  },
  {
   "cell_type": "code",
   "execution_count": 10,
   "metadata": {},
   "outputs": [
    {
     "data": {
      "text/plain": [
       "(9998, 2)"
      ]
     },
     "execution_count": 10,
     "metadata": {},
     "output_type": "execute_result"
    }
   ],
   "source": [
    "reviews_df.shape"
   ]
  },
  {
   "cell_type": "markdown",
   "metadata": {},
   "source": [
    "### Exploration/Visualization"
   ]
  },
  {
   "cell_type": "code",
   "execution_count": 11,
   "metadata": {},
   "outputs": [],
   "source": [
    "# code"
   ]
  },
  {
   "cell_type": "markdown",
   "metadata": {},
   "source": [
    "## Where are we in the data science pipeline?\n",
    "\n",
    "- Ask an interesting question\n",
    "- Get the data\n",
    "- Explore the data\n",
    "- **Model the data**\n",
    "- Communicate/visualize the results"
   ]
  },
  {
   "cell_type": "markdown",
   "metadata": {},
   "source": [
    "The model we will be using is a Random Forest Classifier. A random forest classifier can capture more complex relationships between words and sentiment. It's a good choice when you want to explore a slightly more advanced model without diving too deep into complex algorithms."
   ]
  },
  {
   "cell_type": "markdown",
   "metadata": {},
   "source": [
    "### Analysis/Machine Learning"
   ]
  },
  {
   "cell_type": "markdown",
   "metadata": {},
   "source": [
    "In order to model the data, first we want to tokenize it, similar to what we did in assignment 3 in this course."
   ]
  },
  {
   "cell_type": "markdown",
   "metadata": {},
   "source": [
    "#### Text Preprocessing"
   ]
  },
  {
   "cell_type": "code",
   "execution_count": 12,
   "metadata": {},
   "outputs": [
    {
     "data": {
      "text/html": [
       "<div>\n",
       "<style scoped>\n",
       "    .dataframe tbody tr th:only-of-type {\n",
       "        vertical-align: middle;\n",
       "    }\n",
       "\n",
       "    .dataframe tbody tr th {\n",
       "        vertical-align: top;\n",
       "    }\n",
       "\n",
       "    .dataframe thead th {\n",
       "        text-align: right;\n",
       "    }\n",
       "</style>\n",
       "<table border=\"1\" class=\"dataframe\">\n",
       "  <thead>\n",
       "    <tr style=\"text-align: right;\">\n",
       "      <th></th>\n",
       "      <th>review</th>\n",
       "      <th>sentiment</th>\n",
       "    </tr>\n",
       "  </thead>\n",
       "  <tbody>\n",
       "    <tr>\n",
       "      <th>0</th>\n",
       "      <td>if ur tired of cs2 come back to 2000 and play ...</td>\n",
       "      <td>positive</td>\n",
       "    </tr>\n",
       "    <tr>\n",
       "      <th>1</th>\n",
       "      <td>Counter-Strike 1.6 was a significant part of m...</td>\n",
       "      <td>positive</td>\n",
       "    </tr>\n",
       "    <tr>\n",
       "      <th>2</th>\n",
       "      <td>rather pay for this than winrar</td>\n",
       "      <td>positive</td>\n",
       "    </tr>\n",
       "    <tr>\n",
       "      <th>3</th>\n",
       "      <td>Better then CS2</td>\n",
       "      <td>positive</td>\n",
       "    </tr>\n",
       "    <tr>\n",
       "      <th>4</th>\n",
       "      <td>Every school that i have attended, had this in...</td>\n",
       "      <td>positive</td>\n",
       "    </tr>\n",
       "    <tr>\n",
       "      <th>...</th>\n",
       "      <td>...</td>\n",
       "      <td>...</td>\n",
       "    </tr>\n",
       "    <tr>\n",
       "      <th>9998</th>\n",
       "      <td>Its just a terrible clone of katamari. And IMO...</td>\n",
       "      <td>negative</td>\n",
       "    </tr>\n",
       "    <tr>\n",
       "      <th>9999</th>\n",
       "      <td>TL:DR this game was made 12 year old who got a...</td>\n",
       "      <td>negative</td>\n",
       "    </tr>\n",
       "    <tr>\n",
       "      <th>10000</th>\n",
       "      <td>Insultingly bad Katamari Damacy rip-off.</td>\n",
       "      <td>negative</td>\n",
       "    </tr>\n",
       "    <tr>\n",
       "      <th>10001</th>\n",
       "      <td>The poor man's Katamari Damacy.</td>\n",
       "      <td>negative</td>\n",
       "    </tr>\n",
       "    <tr>\n",
       "      <th>10002</th>\n",
       "      <td>I started out small.\\nThen I slowly grew to on...</td>\n",
       "      <td>negative</td>\n",
       "    </tr>\n",
       "  </tbody>\n",
       "</table>\n",
       "<p>9998 rows × 2 columns</p>\n",
       "</div>"
      ],
      "text/plain": [
       "                                                  review sentiment\n",
       "0      if ur tired of cs2 come back to 2000 and play ...  positive\n",
       "1      Counter-Strike 1.6 was a significant part of m...  positive\n",
       "2                        rather pay for this than winrar  positive\n",
       "3                                        Better then CS2  positive\n",
       "4      Every school that i have attended, had this in...  positive\n",
       "...                                                  ...       ...\n",
       "9998   Its just a terrible clone of katamari. And IMO...  negative\n",
       "9999   TL:DR this game was made 12 year old who got a...  negative\n",
       "10000           Insultingly bad Katamari Damacy rip-off.  negative\n",
       "10001                    The poor man's Katamari Damacy.  negative\n",
       "10002  I started out small.\\nThen I slowly grew to on...  negative\n",
       "\n",
       "[9998 rows x 2 columns]"
      ]
     },
     "execution_count": 12,
     "metadata": {},
     "output_type": "execute_result"
    }
   ],
   "source": [
    "# Create a new dataframe\n",
    "reviews_preprocessed_df = reviews_df.copy()\n",
    "reviews_preprocessed_df"
   ]
  },
  {
   "cell_type": "code",
   "execution_count": 13,
   "metadata": {},
   "outputs": [],
   "source": [
    "def preprocess_text(text):\n",
    "    # Lowercasing\n",
    "    text = text.lower()\n",
    "    # Remove punctuations and numbers\n",
    "    text = re.sub('[^a-zA-Z]', ' ', text)\n",
    "    # Remove single character words\n",
    "    text = re.sub(r\"\\s+[a-zA-Z]\\s+\", ' ', text)\n",
    "    # Remove multiple spaces\n",
    "    text = re.sub(r'\\s+', ' ', text)\n",
    "    \n",
    "    # Tokenization\n",
    "    words = text.split()\n",
    "\n",
    "    # Remove stopwords and Lemmatization\n",
    "    lemmatizer = WordNetLemmatizer()\n",
    "    words = [lemmatizer.lemmatize(word) for word in words if word not in set(stopwords.words('english'))]\n",
    "    \n",
    "    return ' '.join(words) # The reason we join here is to use TfidfVectorizer later\n",
    "\n",
    "# Apply preprocessing to each review\n",
    "reviews_preprocessed_df['review'] = reviews_df['review'].apply(preprocess_text)"
   ]
  },
  {
   "cell_type": "code",
   "execution_count": 20,
   "metadata": {},
   "outputs": [
    {
     "name": "stdout",
     "output_type": "stream",
     "text": [
      "0    if ur tired of cs2 come back to 2000 and play ...\n",
      "1    Counter-Strike 1.6 was a significant part of m...\n",
      "2                      rather pay for this than winrar\n",
      "3                                      Better then CS2\n",
      "4    Every school that i have attended, had this in...\n",
      "Name: review, dtype: object\n",
      "\n",
      "0                          ur tired c come back play c\n",
      "1    counter strike significant part childhood firs...\n",
      "2                                    rather pay winrar\n",
      "3                                             better c\n",
      "4       every school attended installed every computer\n",
      "Name: review, dtype: object\n"
     ]
    }
   ],
   "source": [
    "print(reviews_df.review.head())\n",
    "print()\n",
    "print(reviews_preprocessed_df.review.head())"
   ]
  },
  {
   "cell_type": "markdown",
   "metadata": {},
   "source": [
    "#### Feature Extraction"
   ]
  },
  {
   "cell_type": "code",
   "execution_count": 15,
   "metadata": {},
   "outputs": [],
   "source": [
    "# Creating a TF-IDF vectorizer\n",
    "tfidf_vectorizer = TfidfVectorizer(max_features=5000)\n",
    "X = tfidf_vectorizer.fit_transform(reviews_df['review']).toarray()"
   ]
  },
  {
   "cell_type": "markdown",
   "metadata": {},
   "source": [
    "#### Split the data"
   ]
  },
  {
   "cell_type": "code",
   "execution_count": 16,
   "metadata": {},
   "outputs": [],
   "source": [
    "y = reviews_df['sentiment'].map({'positive': 1, 'negative': 0}).values\n",
    "X_train, X_test, y_train, y_test = train_test_split(X, y, test_size=0.2, random_state=42)"
   ]
  },
  {
   "cell_type": "markdown",
   "metadata": {},
   "source": [
    "#### Train the Random Forest classifier"
   ]
  },
  {
   "cell_type": "code",
   "execution_count": 17,
   "metadata": {},
   "outputs": [
    {
     "data": {
      "text/plain": [
       "RandomForestClassifier(random_state=42)"
      ]
     },
     "execution_count": 17,
     "metadata": {},
     "output_type": "execute_result"
    }
   ],
   "source": [
    "# Initialize the Random Forest Classifier\n",
    "rf_classifier = RandomForestClassifier(n_estimators=100, random_state=42)\n",
    "\n",
    "# Train the model\n",
    "rf_classifier.fit(X_train, y_train)"
   ]
  },
  {
   "cell_type": "markdown",
   "metadata": {},
   "source": [
    "## Where are we in the data science pipeline?\n",
    "\n",
    "- Ask an interesting question\n",
    "- Get the data\n",
    "- Explore the data\n",
    "- Model the data\n",
    "- **Communicate/visualize the results**"
   ]
  },
  {
   "cell_type": "markdown",
   "metadata": {},
   "source": [
    "#### Evaluate the model"
   ]
  },
  {
   "cell_type": "code",
   "execution_count": 18,
   "metadata": {},
   "outputs": [
    {
     "name": "stdout",
     "output_type": "stream",
     "text": [
      "Accuracy: 0.7855\n",
      "              precision    recall  f1-score   support\n",
      "\n",
      "           0       0.75      0.84      0.79       968\n",
      "           1       0.83      0.74      0.78      1032\n",
      "\n",
      "    accuracy                           0.79      2000\n",
      "   macro avg       0.79      0.79      0.79      2000\n",
      "weighted avg       0.79      0.79      0.79      2000\n",
      "\n"
     ]
    }
   ],
   "source": [
    "# Predicting the Test set results\n",
    "y_pred = rf_classifier.predict(X_test)\n",
    "\n",
    "# Evaluating the results\n",
    "print(f\"Accuracy: {accuracy_score(y_test, y_pred)}\")\n",
    "print(classification_report(y_test, y_pred))"
   ]
  },
  {
   "cell_type": "markdown",
   "metadata": {},
   "source": [
    "#### Try using the model to predict the sentiment of new reviews"
   ]
  },
  {
   "cell_type": "code",
   "execution_count": 19,
   "metadata": {},
   "outputs": [
    {
     "name": "stdout",
     "output_type": "stream",
     "text": [
      "positive\n"
     ]
    }
   ],
   "source": [
    "def predict_sentiment(review):\n",
    "    review = preprocess_text(review)\n",
    "    review_vector = tfidf_vectorizer.transform([review]).toarray()\n",
    "    prediction = rf_classifier.predict(review_vector)\n",
    "    return 'positive' if prediction[0] == 1 else 'negative'\n",
    "\n",
    "# Example\n",
    "print(predict_sentiment(\"This is a great product!\"))"
   ]
  },
  {
   "cell_type": "markdown",
   "metadata": {},
   "source": [
    "### Insights"
   ]
  },
  {
   "cell_type": "markdown",
   "metadata": {},
   "source": [
    "# Delete Later\n",
    "\n",
    "Questions to answer\n",
    "- Does the project clearly identify the problem? \n",
    "- Does the project clearly describe the relevant data or/and its collection? \n",
    "- Does the project clearly explain how the data can be used to draw conclusions about the \n",
    "- underlying system? \n",
    "- Does the report clearly explain the work that was done? \n",
    "- Is the project innovative or novel? \n",
    "- Is the model built accurate enough? \n",
    "- Does the project use techniques presented in the course (or clearly related to topics covered in the course) to understand and analyze the data for this problem? \n",
    "- Does the report explain how this work fits around related work in this subject area? \n",
    "- Does the report provide directions for further investigation?"
   ]
  }
 ],
 "metadata": {
  "kernelspec": {
   "display_name": "Python 3",
   "language": "python",
   "name": "python3"
  },
  "language_info": {
   "codemirror_mode": {
    "name": "ipython",
    "version": 3
   },
   "file_extension": ".py",
   "mimetype": "text/x-python",
   "name": "python",
   "nbconvert_exporter": "python",
   "pygments_lexer": "ipython3",
   "version": "3.9.7"
  }
 },
 "nbformat": 4,
 "nbformat_minor": 2
}
