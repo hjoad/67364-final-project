{
 "cells": [
  {
   "cell_type": "markdown",
   "metadata": {},
   "source": [
    "# Understanding Your Customers: A Fresh Take on Analyzing Product Reviews\n",
    "\n",
    "Aisha Al-Khaldi & Huda Joad"
   ]
  },
  {
   "cell_type": "markdown",
   "metadata": {},
   "source": [
    "## Where are we in the data science pipeline?\n",
    "\n",
    "- **Ask an interesting question**\n",
    "- Get the data\n",
    "- Explore the data\n",
    "- Model the data\n",
    "- Communicate/visualize the results"
   ]
  },
  {
   "cell_type": "markdown",
   "metadata": {},
   "source": [
    "## Our Question\n",
    "\n",
    "When customers want to express their thoughts and sentiments about a product, they usually do it through written reviews and assign a rating for their experience (typically a numerical rating from 1-5). We would like to delve into the discussion of **the relationship between the content of the review, whether it's positive, negative or neutral and their assigned ratings**.\n",
    "\n",
    "We will be using xxx API, and try to perform a sentiment analysis on reviews to answer our question."
   ]
  },
  {
   "cell_type": "markdown",
   "metadata": {},
   "source": [
    "## Where are we in the data science pipeline?\n",
    "\n",
    "- Ask an interesting question\n",
    "- **Get the data**\n",
    "- Explore the data\n",
    "- Model the data\n",
    "- Communicate/visualize the results"
   ]
  },
  {
   "cell_type": "code",
   "execution_count": 1,
   "metadata": {},
   "outputs": [],
   "source": [
    "# data collection"
   ]
  },
  {
   "cell_type": "code",
   "execution_count": 2,
   "metadata": {},
   "outputs": [],
   "source": [
    "import requests\n",
    "import pandas as pd\n",
    "import time"
   ]
  },
  {
   "cell_type": "markdown",
   "metadata": {},
   "source": [
    "Steam has a web API. This means we don't actually need an API key to extract what we need, which are the reviews for various games. Instead, we can simply use different URLs.\n",
    "\n",
    "More about Steam's web API can be found [here](https://partner.steamgames.com/doc/store/getreviews).\n",
    "\n",
    "The web API allows us to filter by positive and negative reviews, which means we can use this to get labeled data without having to do it ourselves. Currently, there are over 1.6 million apps, although all of them do not necessarily have reviews."
   ]
  },
  {
   "cell_type": "code",
   "execution_count": 3,
   "metadata": {},
   "outputs": [],
   "source": [
    "# https://store.steampowered.com/appreviews/50?json=1&review_type=negative"
   ]
  },
  {
   "cell_type": "code",
   "execution_count": 4,
   "metadata": {},
   "outputs": [
    {
     "data": {
      "text/plain": [
       "{'success': 1,\n",
       " 'query_summary': {'num_reviews': 2},\n",
       " 'reviews': [{'recommendationid': '148298468',\n",
       "   'author': {'steamid': '76561199532044655',\n",
       "    'num_games_owned': 0,\n",
       "    'num_reviews': 3,\n",
       "    'playtime_forever': 41,\n",
       "    'playtime_last_two_weeks': 0,\n",
       "    'playtime_at_review': 40,\n",
       "    'last_played': 1697669378},\n",
       "   'language': 'english',\n",
       "   'review': 'YABBADA MY HALF LUNCHER IS NOT WORKING WHEN I PUT THE CODE IN YABABDA',\n",
       "   'timestamp_created': 1697397516,\n",
       "   'timestamp_updated': 1697397516,\n",
       "   'voted_up': False,\n",
       "   'votes_up': 2,\n",
       "   'votes_funny': 0,\n",
       "   'weighted_vote_score': '0.523809552192687988',\n",
       "   'comment_count': 0,\n",
       "   'steam_purchase': True,\n",
       "   'received_for_free': False,\n",
       "   'written_during_early_access': False,\n",
       "   'hidden_in_steam_china': True,\n",
       "   'steam_china_location': ''},\n",
       "  {'recommendationid': '147535618',\n",
       "   'author': {'steamid': '76561198079977656',\n",
       "    'num_games_owned': 1150,\n",
       "    'num_reviews': 98,\n",
       "    'playtime_forever': 275,\n",
       "    'playtime_last_two_weeks': 0,\n",
       "    'playtime_at_review': 275,\n",
       "    'last_played': 1696221270},\n",
       "   'language': 'english',\n",
       "   'review': \"the game is fun, but there's one enemy that just made me upset and i never had enough ammo to deal with them. They were just really annoying and they were the only thing i regretted after beating this game.\",\n",
       "   'timestamp_created': 1696294162,\n",
       "   'timestamp_updated': 1696294162,\n",
       "   'voted_up': False,\n",
       "   'votes_up': 2,\n",
       "   'votes_funny': 0,\n",
       "   'weighted_vote_score': '0.5',\n",
       "   'comment_count': 0,\n",
       "   'steam_purchase': True,\n",
       "   'received_for_free': False,\n",
       "   'written_during_early_access': False,\n",
       "   'hidden_in_steam_china': True,\n",
       "   'steam_china_location': ''}],\n",
       " 'cursor': 'AoIIPwAAAHLw5rIE'}"
      ]
     },
     "execution_count": 4,
     "metadata": {},
     "output_type": "execute_result"
    }
   ],
   "source": [
    "url = \"https://store.steampowered.com/appreviews/50?json=1&review_type=negative\"\n",
    "r = requests.get(url)\n",
    "data = r.json()\n",
    "\n",
    "data"
   ]
  },
  {
   "cell_type": "markdown",
   "metadata": {},
   "source": [
    "In this example we can see we get 2 negative reviews in JSON format. To get the reviews alone, let's try this."
   ]
  },
  {
   "cell_type": "code",
   "execution_count": 5,
   "metadata": {},
   "outputs": [
    {
     "name": "stdout",
     "output_type": "stream",
     "text": [
      "YABBADA MY HALF LUNCHER IS NOT WORKING WHEN I PUT THE CODE IN YABABDA\n",
      "the game is fun, but there's one enemy that just made me upset and i never had enough ammo to deal with them. They were just really annoying and they were the only thing i regretted after beating this game.\n"
     ]
    },
    {
     "data": {
      "text/plain": [
       "[None, None]"
      ]
     },
     "execution_count": 5,
     "metadata": {},
     "output_type": "execute_result"
    }
   ],
   "source": [
    "[print(review['review']) for review in data['reviews']]"
   ]
  },
  {
   "cell_type": "markdown",
   "metadata": {},
   "source": [
    "We would know that these are negative reviews as we filtered for negative reviews in the URL for the Steam web API. With all this information, we can now programatically get labeled reviews. For the sake of this project, we will simply a minimum of the first 5,000 positive and negative reviews and go through the apps in order starting from app ID 1.\n",
    "\n",
    "Edit: We did not use this method, which is why it is commented out. The reason is mentioned below."
   ]
  },
  {
   "cell_type": "code",
   "execution_count": 7,
   "metadata": {},
   "outputs": [],
   "source": [
    "# Function to fetch reviews from Steam API for a given game ID and review type (positive or negative)\n",
    "def fetch_reviews(game_id, review_type):\n",
    "    # Construct the API URL with the game ID and review type\n",
    "    url = f\"https://store.steampowered.com/appreviews/{game_id}?json=1&review_type={review_type}\"\n",
    "    r = requests.get(url)  # Make an HTTP GET request to the API\n",
    "\n",
    "    # If the request is successful, process the response\n",
    "    if r.status_code == 200:\n",
    "        data = r.json()  # Parse the JSON response\n",
    "        return [review['review'] for review in data['reviews']]  # Return a list of reviews\n",
    "    else:\n",
    "        return []  # Return an empty list if the request fails\n",
    "\n",
    "# Initialize lists to store positive and negative reviews\n",
    "positive_reviews = []\n",
    "negative_reviews = []\n",
    "game_id = 1  # Start from the first game ID\n",
    "\n",
    "# Loop until 5000 positive and 5000 negative reviews are collected\n",
    "while len(positive_reviews) < 5000 or len(negative_reviews) < 5000:\n",
    "    if len(positive_reviews) < 5000:\n",
    "        # Fetch and add positive reviews for the current game ID\n",
    "        positive_reviews.extend(fetch_reviews(game_id, 'positive'))\n",
    "\n",
    "    if len(negative_reviews) < 5000:\n",
    "        # Fetch and add negative reviews for the current game ID\n",
    "        negative_reviews.extend(fetch_reviews(game_id, 'negative'))\n",
    "\n",
    "    game_id += 1  # Increment the game ID for the next iteration\n",
    "    time.sleep(0.2)  # Pause for 0.2 seconds to avoid hitting the rate limit\n",
    "\n",
    "# Combine the positive and negative reviews into a single list with their corresponding sentiment labels\n",
    "reviews_data = [(review, 'positive') for review in positive_reviews] + \\\n",
    "               [(review, 'negative') for review in negative_reviews]\n",
    "\n",
    "# Create a DataFrame from the combined review data\n",
    "df = pd.DataFrame(reviews_data, columns=['review', 'sentiment'])\n",
    "\n",
    "# Save the DataFrame to a CSV file, without the index and using UTF-8 encoding\n",
    "df.to_csv('steam_reviews.csv', index=False, encoding='utf-8')"
   ]
  },
  {
   "cell_type": "markdown",
   "metadata": {},
   "source": [
    "This method would run for 8+ hours, so instead we'll try using the `steamreviews` package. More information about it can be found [here](https://pypi.org/project/steamreviews/)."
   ]
  },
  {
   "cell_type": "code",
   "execution_count": null,
   "metadata": {},
   "outputs": [],
   "source": [
    "# !pip install steamreviews"
   ]
  },
  {
   "cell_type": "code",
   "execution_count": null,
   "metadata": {},
   "outputs": [],
   "source": [
    "# import steamreviews"
   ]
  },
  {
   "cell_type": "code",
   "execution_count": null,
   "metadata": {},
   "outputs": [],
   "source": [
    "# request_params_test = {\"language\": \"english\", \"review_type\": \"negative\"}\n",
    "# review_dict_test = steamreviews.download_reviews_for_app_id(10, chosen_request_params=request_params_test)\n",
    "# print(review_dict_test)"
   ]
  },
  {
   "cell_type": "code",
   "execution_count": null,
   "metadata": {},
   "outputs": [],
   "source": [
    "# i = 1\n",
    "# for review in list(review_dict_test[0]['reviews'].values()):\n",
    "#     print(review['review'])\n",
    "#     print(i)\n",
    "#     i += 1\n",
    "# # list(review_dict_test[0]['reviews'].values())[0]['review']"
   ]
  },
  {
   "cell_type": "markdown",
   "metadata": {},
   "source": [
    "So with `steamreviews`, we have to extract each review as shown above."
   ]
  },
  {
   "cell_type": "markdown",
   "metadata": {},
   "source": [
    "The following code is how we generated the steam_reviews.csv file. It is commented out because it takes about 10 minutes to run."
   ]
  },
  {
   "cell_type": "code",
   "execution_count": null,
   "metadata": {},
   "outputs": [],
   "source": [
    "# positive_reviews = []\n",
    "# negative_reviews = []\n",
    "# game_id = 1\n",
    "\n",
    "# def extract_reviews(review_dict):\n",
    "#     # Extract the review text from each review in the dictionary\n",
    "#     reviews = [review['review'] for review in review_dict[0]['reviews'].items()]\n",
    "#     return [review for review in reviews]\n",
    "\n",
    "# while len(positive_reviews) < 5000 or len(negative_reviews) < 5000:\n",
    "#     request_params = dict()\n",
    "#     request_params['language'] = 'english'\n",
    "    \n",
    "#     if len(positive_reviews) < 5000:\n",
    "#         request_params['review_type'] = 'positive'\n",
    "#         review_dict = steamreviews.download_reviews_for_app_id(game_id, chosen_request_params=request_params)\n",
    "#         positive_reviews.extend(extract_reviews(review_dict))\n",
    "\n",
    "#     if len(negative_reviews) < 5000:\n",
    "#         request_params['review_type'] = 'negative'\n",
    "#         review_dict = steamreviews.download_reviews_for_app_id(game_id, chosen_request_params=request_params)\n",
    "#         negative_reviews.extend(extract_reviews(review_dict))\n",
    "\n",
    "#     game_id += 1\n",
    "\n",
    "# # Determine the minimum number of reviews between positive and negative sets\n",
    "# min_reviews_count = min(len(positive_reviews), len(negative_reviews))\n",
    "\n",
    "# # Create DataFrame, slicing both lists to the minimum count\n",
    "# reviews_data = [(review, 'positive') for review in positive_reviews[:min_reviews_count]] + \\\n",
    "#                [(review, 'negative') for review in negative_reviews[:min_reviews_count]]\n",
    "\n",
    "# df = pd.DataFrame(reviews_data, columns=['review', 'sentiment'])\n",
    "\n",
    "# df.to_csv('steam_reviews.csv', index=False, encoding='utf-8')"
   ]
  },
  {
   "cell_type": "code",
   "execution_count": null,
   "metadata": {},
   "outputs": [],
   "source": [
    "# positive_reviews = []\n",
    "# negative_reviews = []\n",
    "# game_id = 1\n",
    "\n",
    "# def extract_reviews(review_dict):\n",
    "#     # Assuming review_dict[0]['reviews'] is a dictionary\n",
    "#     # Extract the review text from each review using the specified method\n",
    "#     # list(review_dict_test[0]['reviews'].values())[0]['review']\n",
    "#     ret_reviews = []\n",
    "#     for review in list(review_dict[0]['reviews'].values()):\n",
    "#         ret_reviews.append(review['review'])\n",
    "#         print(len(ret_reviews))\n",
    "#     # reviews = [review['review'] for review in list(review_dict[0]['reviews'].values())]\n",
    "#     return ret_reviews\n",
    "\n",
    "# while len(negative_reviews) < 1:# len(positive_reviews) < 1 or len(negative_reviews) < 1:\n",
    "#     request_params = dict()\n",
    "#     request_params['language'] = 'english'\n",
    "    \n",
    "#     # if len(positive_reviews) < 1:\n",
    "#     #     request_params['review_type'] = 'positive'\n",
    "#     #     print(request_params)\n",
    "#     #     review_dict = steamreviews.download_reviews_for_app_id(game_id, chosen_request_params=request_params)\n",
    "#     #     print(len(extract_reviews(review_dict)))\n",
    "#     #     positive_reviews.extend(extract_reviews(review_dict))\n",
    "\n",
    "#     if len(negative_reviews) < 1:\n",
    "#         request_params['review_type'] = 'negative'\n",
    "#         print(request_params)\n",
    "#         review_dict = {}\n",
    "#         review_dict = steamreviews.download_reviews_for_app_id(game_id, chosen_request_params={\"language\": \"english\", \"review_type\": \"negative\"})\n",
    "#         print(len(review_dict[0]['reviews'].values()))\n",
    "#         negative_reviews.extend(extract_reviews(review_dict))\n",
    "\n",
    "#     game_id += 1\n",
    "\n",
    "# # Determine the minimum number of reviews between positive and negative sets\n",
    "# min_reviews_count = min(len(positive_reviews), len(negative_reviews))\n",
    "\n",
    "# # Create DataFrame, slicing both lists to the minimum count\n",
    "# reviews_data = [(review, 'positive') for review in positive_reviews[:min_reviews_count]] + \\\n",
    "#                [(review, 'negative') for review in negative_reviews[:min_reviews_count]]\n",
    "\n",
    "# df = pd.DataFrame(reviews_data, columns=['review', 'sentiment'])\n",
    "\n",
    "# df.to_csv('steam_reviews.csv', index=False, encoding='utf-8')"
   ]
  },
  {
   "cell_type": "code",
   "execution_count": 8,
   "metadata": {},
   "outputs": [],
   "source": [
    "reviews_df = pd.read_csv('steam_reviews.csv', encoding='utf-8')"
   ]
  },
  {
   "cell_type": "code",
   "execution_count": 9,
   "metadata": {},
   "outputs": [
    {
     "data": {
      "text/html": [
       "<div>\n",
       "<style scoped>\n",
       "    .dataframe tbody tr th:only-of-type {\n",
       "        vertical-align: middle;\n",
       "    }\n",
       "\n",
       "    .dataframe tbody tr th {\n",
       "        vertical-align: top;\n",
       "    }\n",
       "\n",
       "    .dataframe thead th {\n",
       "        text-align: right;\n",
       "    }\n",
       "</style>\n",
       "<table border=\"1\" class=\"dataframe\">\n",
       "  <thead>\n",
       "    <tr style=\"text-align: right;\">\n",
       "      <th></th>\n",
       "      <th>review</th>\n",
       "      <th>sentiment</th>\n",
       "    </tr>\n",
       "  </thead>\n",
       "  <tbody>\n",
       "    <tr>\n",
       "      <th>0</th>\n",
       "      <td>if ur tired of cs2 come back to 2000 and play ...</td>\n",
       "      <td>positive</td>\n",
       "    </tr>\n",
       "    <tr>\n",
       "      <th>1</th>\n",
       "      <td>Counter-Strike 1.6 was a significant part of m...</td>\n",
       "      <td>positive</td>\n",
       "    </tr>\n",
       "    <tr>\n",
       "      <th>2</th>\n",
       "      <td>rather pay for this than winrar</td>\n",
       "      <td>positive</td>\n",
       "    </tr>\n",
       "    <tr>\n",
       "      <th>3</th>\n",
       "      <td>old but gold</td>\n",
       "      <td>positive</td>\n",
       "    </tr>\n",
       "    <tr>\n",
       "      <th>4</th>\n",
       "      <td>Better then CS2</td>\n",
       "      <td>positive</td>\n",
       "    </tr>\n",
       "    <tr>\n",
       "      <th>...</th>\n",
       "      <td>...</td>\n",
       "      <td>...</td>\n",
       "    </tr>\n",
       "    <tr>\n",
       "      <th>8016</th>\n",
       "      <td>Because of motherfucking SecuROM, this motherf...</td>\n",
       "      <td>negative</td>\n",
       "    </tr>\n",
       "    <tr>\n",
       "      <th>8017</th>\n",
       "      <td>Want the game to work on a modern PC?\\n\\nStep ...</td>\n",
       "      <td>negative</td>\n",
       "    </tr>\n",
       "    <tr>\n",
       "      <th>8018</th>\n",
       "      <td>Does not run on windows 10</td>\n",
       "      <td>negative</td>\n",
       "    </tr>\n",
       "    <tr>\n",
       "      <th>8019</th>\n",
       "      <td>Stupid games for windows account and online re...</td>\n",
       "      <td>negative</td>\n",
       "    </tr>\n",
       "    <tr>\n",
       "      <th>8020</th>\n",
       "      <td>Games For Windows Live. You'll play gta4 for a...</td>\n",
       "      <td>negative</td>\n",
       "    </tr>\n",
       "  </tbody>\n",
       "</table>\n",
       "<p>8021 rows × 2 columns</p>\n",
       "</div>"
      ],
      "text/plain": [
       "                                                 review sentiment\n",
       "0     if ur tired of cs2 come back to 2000 and play ...  positive\n",
       "1     Counter-Strike 1.6 was a significant part of m...  positive\n",
       "2                       rather pay for this than winrar  positive\n",
       "3                                          old but gold  positive\n",
       "4                                       Better then CS2  positive\n",
       "...                                                 ...       ...\n",
       "8016  Because of motherfucking SecuROM, this motherf...  negative\n",
       "8017  Want the game to work on a modern PC?\\n\\nStep ...  negative\n",
       "8018                         Does not run on windows 10  negative\n",
       "8019  Stupid games for windows account and online re...  negative\n",
       "8020  Games For Windows Live. You'll play gta4 for a...  negative\n",
       "\n",
       "[8021 rows x 2 columns]"
      ]
     },
     "execution_count": 9,
     "metadata": {},
     "output_type": "execute_result"
    }
   ],
   "source": [
    "reviews_df"
   ]
  },
  {
   "cell_type": "code",
   "execution_count": null,
   "metadata": {},
   "outputs": [],
   "source": [
    "reviews_df.sentiment.value_counts()"
   ]
  },
  {
   "cell_type": "markdown",
   "metadata": {},
   "source": [
    "Now we have 27,705 reviews for both positive and negative. Providing an equal number of data for each label is important because ???."
   ]
  },
  {
   "cell_type": "markdown",
   "metadata": {},
   "source": [
    "## Where are we in the data science pipeline?\n",
    "\n",
    "- Ask an interesting question\n",
    "- Get the data\n",
    "- **Explore the data**\n",
    "- Model the data\n",
    "- Communicate/visualize the results"
   ]
  },
  {
   "cell_type": "code",
   "execution_count": null,
   "metadata": {},
   "outputs": [],
   "source": [
    "# data processing"
   ]
  },
  {
   "cell_type": "code",
   "execution_count": null,
   "metadata": {},
   "outputs": [],
   "source": [
    "# exploration/visualization"
   ]
  },
  {
   "cell_type": "markdown",
   "metadata": {},
   "source": [
    "## Where are we in the data science pipeline?\n",
    "\n",
    "- Ask an interesting question\n",
    "- Get the data\n",
    "- Explore the data\n",
    "- **Model the data**\n",
    "- Communicate/visualize the results"
   ]
  },
  {
   "cell_type": "markdown",
   "metadata": {},
   "source": [
    "The model we will be using is a Random Forest Classifier. A random forest classifier can capture more complex relationships between words and sentiment. It's a good choice when you want to explore a slightly more advanced model without diving too deep into complex algorithms."
   ]
  },
  {
   "cell_type": "code",
   "execution_count": null,
   "metadata": {},
   "outputs": [],
   "source": [
    "# analysis/machine learning"
   ]
  },
  {
   "cell_type": "markdown",
   "metadata": {},
   "source": [
    "In order to model the data, first we want to tokenize it, similar to what we did in assignment 3 in this course."
   ]
  },
  {
   "cell_type": "code",
   "execution_count": null,
   "metadata": {},
   "outputs": [],
   "source": [
    "# tokenize etc"
   ]
  },
  {
   "cell_type": "code",
   "execution_count": null,
   "metadata": {},
   "outputs": [],
   "source": [
    "# build random forest classifier"
   ]
  },
  {
   "cell_type": "markdown",
   "metadata": {},
   "source": [
    "## Where are we in the data science pipeline?\n",
    "\n",
    "- Ask an interesting question\n",
    "- Get the data\n",
    "- Explore the data\n",
    "- Model the data\n",
    "- **Communicate/visualize the results**"
   ]
  },
  {
   "cell_type": "code",
   "execution_count": null,
   "metadata": {},
   "outputs": [],
   "source": [
    "# insights"
   ]
  },
  {
   "cell_type": "markdown",
   "metadata": {},
   "source": [
    "# Delete Later\n",
    "\n",
    "Questions to answer\n",
    "- Does the project clearly identify the problem? \n",
    "- Does the project clearly describe the relevant data or/and its collection? \n",
    "- Does the project clearly explain how the data can be used to draw conclusions about the \n",
    "- underlying system? \n",
    "- Does the report clearly explain the work that was done? \n",
    "- Is the project innovative or novel? \n",
    "- Is the model built accurate enough? \n",
    "- Does the project use techniques presented in the course (or clearly related to topics covered in the course) to understand and analyze the data for this problem? \n",
    "- Does the report explain how this work fits around related work in this subject area? \n",
    "- Does the report provide directions for further investigation?"
   ]
  }
 ],
 "metadata": {
  "kernelspec": {
   "display_name": "Python 3",
   "language": "python",
   "name": "python3"
  },
  "language_info": {
   "codemirror_mode": {
    "name": "ipython",
    "version": 3
   },
   "file_extension": ".py",
   "mimetype": "text/x-python",
   "name": "python",
   "nbconvert_exporter": "python",
   "pygments_lexer": "ipython3",
   "version": "3.9.7"
  }
 },
 "nbformat": 4,
 "nbformat_minor": 2
}
