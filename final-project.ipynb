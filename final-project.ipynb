{
 "cells": [
  {
   "cell_type": "markdown",
   "metadata": {},
   "source": [
    "# Understanding Your Customers: A Fresh Take on Analyzing Product Reviews\n",
    "\n",
    "Aisha Al-Khaldi & Huda Joad"
   ]
  },
  {
   "cell_type": "markdown",
   "metadata": {},
   "source": [
    "## Where are we in the data science pipeline?\n",
    "\n",
    "- **Ask an interesting question**\n",
    "- Get the data\n",
    "- Explore the data\n",
    "- Model the data\n",
    "- Communicate/visualize the results"
   ]
  },
  {
   "cell_type": "markdown",
   "metadata": {},
   "source": [
    "## Our Question\n",
    "\n",
    "When customers want to express their thoughts and sentiments about a product, they usually do it through written reviews and assign a rating for their experience (typically a numerical rating from 1-5). We would like to delve into the discussion of **the relationship between the content of the review, whether it's positive, negative or neutral and their assigned ratings**.\n",
    "\n",
    "We will be using xxx API, and try to perform a sentiment analysis on reviews to answer our question."
   ]
  },
  {
   "cell_type": "markdown",
   "metadata": {},
   "source": [
    "## Where are we in the data science pipeline?\n",
    "\n",
    "- Ask an interesting question\n",
    "- **Get the data**\n",
    "- Explore the data\n",
    "- Model the data\n",
    "- Communicate/visualize the results"
   ]
  },
  {
   "cell_type": "code",
   "execution_count": 3,
   "metadata": {},
   "outputs": [],
   "source": [
    "# data collection"
   ]
  },
  {
   "cell_type": "code",
   "execution_count": 4,
   "metadata": {},
   "outputs": [
    {
     "name": "stdout",
     "output_type": "stream",
     "text": [
      "Obtaining jupyter-testing from git+https://github.com/gauravmm/jupyter-testing.git#egg=jupyter-testing\n",
      "  Updating c:\\users\\hudaj\\desktop\\huda\\fall 2023\\data science\\final-project\\src\\jupyter-testing clone\n",
      "Installing collected packages: jupyter-testing\n",
      "  Attempting uninstall: jupyter-testing\n",
      "    Found existing installation: jupyter-testing 0.0.2\n",
      "    Uninstalling jupyter-testing-0.0.2:\n",
      "      Successfully uninstalled jupyter-testing-0.0.2\n",
      "  Running setup.py develop for jupyter-testing\n",
      "Successfully installed jupyter-testing-0.0.2\n"
     ]
    },
    {
     "name": "stderr",
     "output_type": "stream",
     "text": [
      "  Running command git fetch -q --tags\n",
      "  Running command git reset --hard -q 8c6b703e663a16f77af53a05096f0258274656b2\n"
     ]
    }
   ],
   "source": [
    "!pip install -e git+https://github.com/gauravmm/jupyter-testing.git#egg=jupyter-testing\n",
    "\n",
    "from testing.testing import test\n",
    "import requests"
   ]
  },
  {
   "cell_type": "code",
   "execution_count": 12,
   "metadata": {},
   "outputs": [
    {
     "name": "stdout",
     "output_type": "stream",
     "text": [
      "### TESTING retrieve_html: PASSED 2/2\n",
      "###\n",
      "\n"
     ]
    }
   ],
   "source": [
    "def retrieve_html_test(retrieve_html):\n",
    "    status_code, text = retrieve_html(\"http://www.example.com\")\n",
    "    test.equal(status_code, 200)\n",
    "    test.true(\"http://censor.qa/?accessurl=d3d3LmV4YW1wbGUuY29t&urlclassname=&ipaddr=78.100.166.255\" in text)\n",
    "\n",
    "@test\n",
    "def retrieve_html(url):\n",
    "    \"\"\"\n",
    "    Return the raw HTML at the specified URL.\n",
    "\n",
    "    Args:\n",
    "        url (string): \n",
    "\n",
    "    Returns:\n",
    "        status_code (integer):\n",
    "        raw_html (string): the raw HTML content of the response, properly encoded according to the HTTP headers.\n",
    "    \"\"\"\n",
    "\n",
    "    r = requests.get(url)\n",
    "    return r.status_code, r.text"
   ]
  },
  {
   "cell_type": "markdown",
   "metadata": {},
   "source": [
    "## Where are we in the data science pipeline?\n",
    "\n",
    "- Ask an interesting question\n",
    "- Get the data\n",
    "- **Explore the data**\n",
    "- Model the data\n",
    "- Communicate/visualize the results"
   ]
  },
  {
   "cell_type": "code",
   "execution_count": 6,
   "metadata": {},
   "outputs": [],
   "source": [
    "# data processing"
   ]
  },
  {
   "cell_type": "code",
   "execution_count": 7,
   "metadata": {},
   "outputs": [],
   "source": [
    "# exploration/visualization"
   ]
  },
  {
   "cell_type": "markdown",
   "metadata": {},
   "source": [
    "## Where are we in the data science pipeline?\n",
    "\n",
    "- Ask an interesting question\n",
    "- Get the data\n",
    "- Explore the data\n",
    "- **Model the data**\n",
    "- Communicate/visualize the results"
   ]
  },
  {
   "cell_type": "markdown",
   "metadata": {},
   "source": [
    "The model we will be using is a Random Forest Classifier. A random forest classifier can capture more complex relationships between words and sentiment. It's a good choice when you want to explore a slightly more advanced model without diving too deep into complex algorithms."
   ]
  },
  {
   "cell_type": "code",
   "execution_count": 8,
   "metadata": {},
   "outputs": [],
   "source": [
    "# analysis/machine learning"
   ]
  },
  {
   "cell_type": "markdown",
   "metadata": {},
   "source": [
    "## Where are we in the data science pipeline?\n",
    "\n",
    "- Ask an interesting question\n",
    "- Get the data\n",
    "- Explore the data\n",
    "- Model the data\n",
    "- **Communicate/visualize the results**"
   ]
  },
  {
   "cell_type": "code",
   "execution_count": 9,
   "metadata": {},
   "outputs": [],
   "source": [
    "# insights"
   ]
  },
  {
   "cell_type": "markdown",
   "metadata": {},
   "source": [
    "# Delete Later\n",
    "\n",
    "Questions to answer\n",
    "- Does the project clearly identify the problem? \n",
    "- Does the project clearly describe the relevant data or/and its collection? \n",
    "- Does the project clearly explain how the data can be used to draw conclusions about the \n",
    "- underlying system? \n",
    "- Does the report clearly explain the work that was done? \n",
    "- Is the project innovative or novel? \n",
    "- Is the model built accurate enough? \n",
    "- Does the project use techniques presented in the course (or clearly related to topics \n",
    "covered? \n",
    "- in the course) to understand and analyze the data for this problem? \n",
    "- Does the report explain how this work fits around related work in this subject area? \n",
    "- Does the report provide directions for further investigation?"
   ]
  }
 ],
 "metadata": {
  "kernelspec": {
   "display_name": "Python 3",
   "language": "python",
   "name": "python3"
  },
  "language_info": {
   "codemirror_mode": {
    "name": "ipython",
    "version": 3
   },
   "file_extension": ".py",
   "mimetype": "text/x-python",
   "name": "python",
   "nbconvert_exporter": "python",
   "pygments_lexer": "ipython3",
   "version": "3.9.7"
  }
 },
 "nbformat": 4,
 "nbformat_minor": 2
}
